{
 "cells": [
  {
   "cell_type": "code",
   "execution_count": 94,
   "id": "0fe1c0e3",
   "metadata": {},
   "outputs": [
    {
     "name": "stdout",
     "output_type": "stream",
     "text": [
      "hell\n"
     ]
    }
   ],
   "source": [
    "\n",
    "b = \"hello\"[0:4]\n",
    "print(b)\n"
   ]
  },
  {
   "cell_type": "code",
   "execution_count": 95,
   "id": "496873e0",
   "metadata": {},
   "outputs": [
    {
     "name": "stdout",
     "output_type": "stream",
     "text": [
      "[1, 2, 3, 4, 5]\n",
      "['apple', 'banana']\n",
      "True\n"
     ]
    }
   ],
   "source": [
    "numbers = [1,2,3,4,5]\n",
    "fruits = [\"apple\", \"banana\", \"cherry\"]\n",
    "mixed = [10, \"Hello\", 3.14, True]\n",
    "print(numbers)\n",
    "print(fruits[0:2])\n",
    "print(mixed[-1])"
   ]
  },
  {
   "cell_type": "code",
   "execution_count": 96,
   "id": "ef3c1efa",
   "metadata": {},
   "outputs": [
    {
     "name": "stdout",
     "output_type": "stream",
     "text": [
      "{'major': 'computer science, art science', 'age': 20}\n"
     ]
    }
   ],
   "source": [
    "students = {\"name\": \"kevin\", \"major\": \"math\"}\n",
    "students[\"major\"] = \"computer science, art science\"\n",
    "students[\"age\"] = 20\n",
    "del students[\"name\"]\n",
    "print(students)\n",
    "\n"
   ]
  },
  {
   "cell_type": "code",
   "execution_count": 97,
   "id": "338fd752",
   "metadata": {},
   "outputs": [
    {
     "name": "stdout",
     "output_type": "stream",
     "text": [
      "['apple', 'grape', 'orange']\n"
     ]
    }
   ],
   "source": [
    "# fruits에 원소 0, 1, 2 저장\n",
    "fruits = [\"apple\", \"banana\", \"cherry\"]\n",
    "# 원소1 변경\n",
    "fruits[1] = \"grape\"\n",
    "# 원소2 삭제\n",
    "del fruits[2]\n",
    "# 새로운 원소2 추가\n",
    "fruits.append(\"orange\")\n",
    "# 원소 출력\n",
    "print(fruits)"
   ]
  },
  {
   "cell_type": "code",
   "execution_count": 98,
   "id": "92137650",
   "metadata": {},
   "outputs": [
    {
     "name": "stdout",
     "output_type": "stream",
     "text": [
      "blue\n"
     ]
    }
   ],
   "source": [
    "colors = (\"red\", \"green\", \"blue\", \"yellow\")\n",
    "print(colors[2])"
   ]
  },
  {
   "cell_type": "code",
   "execution_count": 99,
   "id": "fc209951",
   "metadata": {},
   "outputs": [
    {
     "name": "stdout",
     "output_type": "stream",
     "text": [
      "{1, 2, 3, 4, 5, 6}\n",
      "{3, 4}\n",
      "{1, 2} {5, 6}\n",
      "{1, 2, 5, 6}\n"
     ]
    }
   ],
   "source": [
    "A = {1, 2, 3, 4}\n",
    "B = {3, 4, 5, 6}\n",
    "print(A|B)\n",
    "print(A&B)\n",
    "print(A-B, B-A)\n",
    "print((A-B)|(B-A))"
   ]
  },
  {
   "cell_type": "code",
   "execution_count": 100,
   "id": "f2ba60df",
   "metadata": {},
   "outputs": [
    {
     "name": "stdout",
     "output_type": "stream",
     "text": [
      "{'이름': '김철수', '나이': 21, '학과': '컴퓨터공학과'}\n"
     ]
    }
   ],
   "source": [
    "student = {\"이름\": \"김철수\", \"나이\": 20, \"학교\": \"서울대학교\"}\n",
    "student[\"학과\"] = \"컴퓨터공학과\"\n",
    "student[\"나이\"] = 21\n",
    "del student[\"학교\"]\n",
    "print(student)"
   ]
  },
  {
   "cell_type": "code",
   "execution_count": 101,
   "id": "c2d0b0a8",
   "metadata": {},
   "outputs": [
    {
     "name": "stdout",
     "output_type": "stream",
     "text": [
      "True\n",
      "True\n"
     ]
    }
   ],
   "source": [
    "print(\"ㅔ\" in \"ㄴㅔ\")\n",
    "print(\"전\" in \"전윤재\")"
   ]
  },
  {
   "cell_type": "code",
   "execution_count": 118,
   "id": "4accfd90",
   "metadata": {},
   "outputs": [
    {
     "name": "stdout",
     "output_type": "stream",
     "text": [
      "a를 입력하세요: 29.0\n",
      "b를 입력하세요: 13.0\n",
      "기호: /\n",
      "나눗셈: 2.230769230769231\n",
      "몫: 2\n",
      "나머지: 3.0\n"
     ]
    }
   ],
   "source": [
    "a = float(input(\"a를 입력하세요: \"))\n",
    "b = float(input(\"b를 입력하세요: \"))\n",
    "compute = input(\"사칙연산 기호를 입력하세요: \")\n",
    "print(\"a를 입력하세요:\", a)\n",
    "print(\"b를 입력하세요:\", b)\n",
    "print(\"기호:\", compute)\n",
    "if compute == \"+\" :\n",
    "    print(\"덧셈:\", a+b)\n",
    "elif compute == \"-\" :\n",
    "    print(\"뺄셈:\", a-b)\n",
    "elif compute == \"*\" :\n",
    "    print(\"곱셈:\", a*b)\n",
    "elif compute == \"/\" :\n",
    "    print(\"나눗셈:\", a/b)\n",
    "    print(\"몫:\", int (a// b))\n",
    "    print(\"나머지:\", a % b)\n",
    "\n",
    "\n"
   ]
  },
  {
   "cell_type": "code",
   "execution_count": 124,
   "id": "b0040ba2",
   "metadata": {},
   "outputs": [
    {
     "name": "stdout",
     "output_type": "stream",
     "text": [
      "a: 13.0\n",
      "a는 양수입니다\n"
     ]
    }
   ],
   "source": [
    "a = float(input(\"수를 입력하세요: \"))\n",
    "print(\"a:\", a)\n",
    "if a > 0 :\n",
    "    print(\"a는 양수입니다\")\n",
    "elif a < 0 :\n",
    "    print(\"a는 음수입니다\")\n",
    "else :\n",
    "    print(\"a는 0입니다\")\n"
   ]
  },
  {
   "cell_type": "code",
   "execution_count": 145,
   "id": "1ad23b59",
   "metadata": {},
   "outputs": [
    {
     "name": "stdout",
     "output_type": "stream",
     "text": [
      "0\n",
      "1\n",
      "2\n",
      "3\n",
      "4\n",
      "5\n",
      "6\n",
      "7\n",
      "8\n"
     ]
    }
   ],
   "source": [
    "for i in range(10):\n",
    "    if i == 9:\n",
    "        continue\n",
    "    print(i)"
   ]
  },
  {
   "cell_type": "code",
   "execution_count": 148,
   "id": "d0294167",
   "metadata": {},
   "outputs": [
    {
     "name": "stdout",
     "output_type": "stream",
     "text": [
      "10초 후에 종료됩니다\n",
      "입력한 명령: \n",
      "10초 후에 종료됩니다\n",
      "입력한 명령: \n",
      "10초 후에 종료됩니다\n",
      "입력한 명령: \n",
      "10초 후에 종료됩니다\n",
      "입력한 명령: \n",
      "10초 후에 종료됩니다\n",
      "입력한 명령: \n",
      "10초 후에 종료됩니다\n",
      "입력한 명령: \n",
      "10초 후에 종료됩니다\n",
      "입력한 명령: \n",
      "10초 후에 종료됩니다\n",
      "프로그램 종료\n"
     ]
    }
   ],
   "source": [
    "while True:\n",
    "    print(\"10초 후에 종료됩니다\")\n",
    "    command = input(\"명령을 입력하세요 (exit 입력 시 종료):\")\n",
    "    if command == \"exit\":\n",
    "        print(\"프로그램 종료\")\n",
    "        break\n",
    "    print(\"입력한 명령:\", command)"
   ]
  },
  {
   "cell_type": "code",
   "execution_count": 176,
   "id": "c64438be",
   "metadata": {},
   "outputs": [
    {
     "name": "stdout",
     "output_type": "stream",
     "text": [
      "[1]\n",
      "1\n",
      "[1, 2]\n",
      "3\n",
      "[1, 2, 3]\n",
      "6\n",
      "[1, 2, 3, 4]\n",
      "10\n",
      "[1, 2, 3, 4, 5]\n",
      "15\n",
      "[1, 2, 3, 4, 5, 6]\n",
      "21\n",
      "[1, 2, 3, 4, 5, 6, 7]\n",
      "28\n",
      "[1, 2, 3, 4, 5, 6, 7, 8]\n",
      "36\n",
      "[1, 2, 3, 4, 5, 6, 7, 8, 9]\n",
      "45\n",
      "[1, 2, 3, 4, 5, 6, 7, 8, 9, 10]\n",
      "55\n"
     ]
    }
   ],
   "source": [
    "nums = []\n",
    "for i in range(1, 11):\n",
    "    nums.append(i)\n",
    "    print(nums)\n",
    "    print(sum(nums))\n",
    "    "
   ]
  },
  {
   "cell_type": "code",
   "execution_count": 165,
   "id": "76994d74",
   "metadata": {},
   "outputs": [
    {
     "name": "stdout",
     "output_type": "stream",
     "text": [
      "1\n",
      "2\n",
      "3\n",
      "4\n",
      "5\n"
     ]
    }
   ],
   "source": [
    "numbers = [1, 2, 3, 4, 5]\n",
    "for i in range(5):\n",
    "    print(numbers[i])"
   ]
  },
  {
   "cell_type": "code",
   "execution_count": 234,
   "id": "3de80bf9",
   "metadata": {},
   "outputs": [
    {
     "name": "stdout",
     "output_type": "stream",
     "text": [
      "1\n",
      "2\n",
      "3\n",
      "4\n",
      "5\n"
     ]
    }
   ],
   "source": [
    "numbers = [1, 2, 3, 4, 5]\n",
    "num = 0\n",
    "while num < 5: \n",
    "    print(numbers[num])\n",
    "    num += 1"
   ]
  },
  {
   "cell_type": "code",
   "execution_count": 242,
   "id": "2663117b",
   "metadata": {},
   "outputs": [
    {
     "name": "stdout",
     "output_type": "stream",
     "text": [
      "1\n",
      "2\n",
      "3\n",
      "4\n",
      "5\n",
      "6\n",
      "7\n",
      "8\n",
      "9\n",
      "10\n"
     ]
    }
   ],
   "source": [
    "num = 0\n",
    "while num < 10:\n",
    "    num += 1\n",
    "    print(num)\n"
   ]
  },
  {
   "cell_type": "code",
   "execution_count": 240,
   "id": "cf4898e2",
   "metadata": {},
   "outputs": [
    {
     "name": "stdout",
     "output_type": "stream",
     "text": [
      "dog\n",
      "cat\n",
      "elephant\n",
      "tiger\n"
     ]
    }
   ],
   "source": [
    "animals = [\"dog\", \"cat\", \"elephant\", \"tiger\"]\n",
    "num = 0\n",
    "while num < 4:\n",
    "    print(animals[num])\n",
    "    num += 1"
   ]
  },
  {
   "cell_type": "markdown",
   "id": "964d8424",
   "metadata": {},
   "source": [
    "# 되새김문제 (p.116 -119)"
   ]
  },
  {
   "cell_type": "code",
   "execution_count": null,
   "id": "7910adca",
   "metadata": {},
   "outputs": [
    {
     "name": "stdout",
     "output_type": "stream",
     "text": [
      "71.66666666666667\n"
     ]
    }
   ],
   "source": [
    "# 1.\n",
    "score = [75, 85, 55]\n",
    "print(sum(score)/3)"
   ]
  },
  {
   "cell_type": "code",
   "execution_count": 256,
   "id": "b5afae8d",
   "metadata": {},
   "outputs": [
    {
     "name": "stdout",
     "output_type": "stream",
     "text": [
      "홀수입니다\n"
     ]
    }
   ],
   "source": [
    "# 2.\n",
    "a = 13\n",
    "if a % 2 == 1 :\n",
    "    print(\"홀수입니다\")"
   ]
  },
  {
   "cell_type": "code",
   "execution_count": null,
   "id": "9bb24d26",
   "metadata": {},
   "outputs": [
    {
     "name": "stdout",
     "output_type": "stream",
     "text": [
      "19881120\n",
      "1068234\n"
     ]
    }
   ],
   "source": [
    "# 3.\n",
    "pin = \"881120-1068234\"\n",
    "yyyymmdd = \"19\" + pin[0:6]\n",
    "num = pin[7:]\n",
    "print(yyyymmdd)\n",
    "print(num)"
   ]
  },
  {
   "cell_type": "code",
   "execution_count": 269,
   "id": "3d025d41",
   "metadata": {},
   "outputs": [
    {
     "name": "stdout",
     "output_type": "stream",
     "text": [
      "1\n"
     ]
    }
   ],
   "source": [
    "# 4.\n",
    "pin = \"881120-1068234\"\n",
    "print(pin[7])"
   ]
  },
  {
   "cell_type": "code",
   "execution_count": 270,
   "id": "ec29f522",
   "metadata": {},
   "outputs": [
    {
     "name": "stdout",
     "output_type": "stream",
     "text": [
      "a#b#c#d\n"
     ]
    }
   ],
   "source": [
    "# 5.\n",
    "a = \"a:b:c:d\"\n",
    "b = a.replace(\":\", \"#\")\n",
    "print(b)"
   ]
  },
  {
   "cell_type": "code",
   "execution_count": 273,
   "id": "bb864f15",
   "metadata": {},
   "outputs": [
    {
     "name": "stdout",
     "output_type": "stream",
     "text": [
      "[5, 4, 3, 2, 1]\n"
     ]
    }
   ],
   "source": [
    "# 6.\n",
    "a = [1, 3, 5, 4, 2]\n",
    "a.sort()\n",
    "a.reverse()\n",
    "print(a)"
   ]
  },
  {
   "cell_type": "code",
   "execution_count": 275,
   "id": "35d4d0cf",
   "metadata": {},
   "outputs": [
    {
     "name": "stdout",
     "output_type": "stream",
     "text": [
      "Life is too short\n"
     ]
    }
   ],
   "source": [
    "# 7.\n",
    "a = ['Life', 'is', 'too', 'short']\n",
    "result = \" \".join(a)\n",
    "print(result)"
   ]
  },
  {
   "cell_type": "code",
   "execution_count": 299,
   "id": "e990af3b",
   "metadata": {},
   "outputs": [
    {
     "name": "stdout",
     "output_type": "stream",
     "text": [
      "(1, 2, 3, 4)\n"
     ]
    }
   ],
   "source": [
    "# 8.\n",
    "a = (1, 2, 3)\n",
    "a = a + (4,)\n",
    "print(a)"
   ]
  },
  {
   "cell_type": "code",
   "execution_count": 310,
   "id": "eda43434",
   "metadata": {},
   "outputs": [
    {
     "ename": "TypeError",
     "evalue": "unhashable type: 'list'",
     "output_type": "error",
     "traceback": [
      "\u001b[31m---------------------------------------------------------------------------\u001b[39m",
      "\u001b[31mTypeError\u001b[39m                                 Traceback (most recent call last)",
      "\u001b[36mCell\u001b[39m\u001b[36m \u001b[39m\u001b[32mIn[310]\u001b[39m\u001b[32m, line 3\u001b[39m\n\u001b[32m      1\u001b[39m \u001b[38;5;66;03m# 9.\u001b[39;00m\n\u001b[32m      2\u001b[39m a = \u001b[38;5;28mdict\u001b[39m()\n\u001b[32m----> \u001b[39m\u001b[32m3\u001b[39m \u001b[43ma\u001b[49m\u001b[43m[\u001b[49m\u001b[43m[\u001b[49m\u001b[32;43m1\u001b[39;49m\u001b[43m]\u001b[49m\u001b[43m]\u001b[49m = \u001b[33m'\u001b[39m\u001b[33mhello\u001b[39m\u001b[33m'\u001b[39m\n",
      "\u001b[31mTypeError\u001b[39m: unhashable type: 'list'"
     ]
    }
   ],
   "source": [
    "# 9.\n",
    "a = dict()\n",
    "a[[1]] = 'hello'"
   ]
  },
  {
   "cell_type": "code",
   "execution_count": 311,
   "id": "0378c8e9",
   "metadata": {},
   "outputs": [
    {
     "name": "stdout",
     "output_type": "stream",
     "text": [
      "{'A': 90, 'C': 70}\n",
      "80\n"
     ]
    }
   ],
   "source": [
    "# 10.\n",
    "a = {'A': 90, 'B':80, 'C': 70}\n",
    "result = a.pop('B')\n",
    "print(a)\n",
    "print(result)"
   ]
  },
  {
   "cell_type": "code",
   "execution_count": 319,
   "id": "767a6aeb",
   "metadata": {},
   "outputs": [
    {
     "name": "stdout",
     "output_type": "stream",
     "text": [
      "[1, 1, 1, 2, 2, 3, 3, 3, 4, 4, 5]\n",
      "{1, 2, 3, 4, 5}\n",
      "[1, 2, 3, 4, 5]\n"
     ]
    }
   ],
   "source": [
    "# 11.\n",
    "a = [1, 1, 1, 2, 2, 3, 3, 3, 4, 4, 5]\n",
    "aSet = set(a)\n",
    "b = list(aSet)\n",
    "print(a)\n",
    "print(aSet)\n",
    "print(b)"
   ]
  },
  {
   "cell_type": "code",
   "execution_count": 320,
   "id": "3dac479e",
   "metadata": {},
   "outputs": [
    {
     "name": "stdout",
     "output_type": "stream",
     "text": [
      "[1, 4, 3]\n"
     ]
    }
   ],
   "source": [
    "# 12.\n",
    "a = b = [1, 2, 3]\n",
    "a[1] = 4\n",
    "print(b)"
   ]
  },
  {
   "cell_type": "markdown",
   "id": "9b696be3",
   "metadata": {},
   "source": [
    "# 되새김문제 (p.149 -151)"
   ]
  },
  {
   "cell_type": "code",
   "execution_count": 323,
   "id": "e4c6d5f3",
   "metadata": {},
   "outputs": [
    {
     "name": "stdout",
     "output_type": "stream",
     "text": [
      "shirt\n"
     ]
    }
   ],
   "source": [
    "# 1.\n",
    "a = \"Life is too short, you need python\"\n",
    "\n",
    "if \"wife\" in a: print(\"wife\")\n",
    "elif \"python\" in a and \"you\" not in a: print(\"python\")\n",
    "elif \"shirt\" not in a: print(\"shirt\")\n",
    "elif \"need\" in a: print(\"need\")\n",
    "else: print(\"none\")\n"
   ]
  },
  {
   "cell_type": "code",
   "execution_count": 324,
   "id": "44d95e48",
   "metadata": {},
   "outputs": [
    {
     "name": "stdout",
     "output_type": "stream",
     "text": [
      "166833\n"
     ]
    }
   ],
   "source": [
    "# 2.\n",
    "result = 0\n",
    "i = 1\n",
    "while i <= 1000:\n",
    "    if i%3 == 0:\n",
    "        result += i\n",
    "    i += 1\n",
    "print(result)"
   ]
  },
  {
   "cell_type": "code",
   "execution_count": 328,
   "id": "b93f53b7",
   "metadata": {},
   "outputs": [
    {
     "name": "stdout",
     "output_type": "stream",
     "text": [
      "*\n",
      "**\n",
      "***\n",
      "****\n",
      "*****\n"
     ]
    }
   ],
   "source": [
    "# 3.\n",
    "i = 0\n",
    "while True:\n",
    "    i += 1\n",
    "    if i >5 :break\n",
    "    print(\"*\" * i)"
   ]
  },
  {
   "cell_type": "code",
   "execution_count": null,
   "id": "332a2d8e",
   "metadata": {},
   "outputs": [],
   "source": [
    "# 4.\n",
    "# skip"
   ]
  },
  {
   "cell_type": "code",
   "execution_count": 329,
   "id": "efe82e3e",
   "metadata": {},
   "outputs": [
    {
     "name": "stdout",
     "output_type": "stream",
     "text": [
      "79.0\n"
     ]
    }
   ],
   "source": [
    "# 5.\n",
    "A = [70, 60, 55, 75, 95, 90, 80, 80, 85, 100]\n",
    "total = 0\n",
    "for score in A:\n",
    "    total += score\n",
    "average = total / len(A)\n",
    "print(average)"
   ]
  },
  {
   "cell_type": "code",
   "execution_count": 332,
   "id": "a3fa04d4",
   "metadata": {},
   "outputs": [
    {
     "name": "stdout",
     "output_type": "stream",
     "text": [
      "[2, 6, 10]\n"
     ]
    }
   ],
   "source": [
    "# 6.\n",
    "numbers = [1, 2, 3, 4, 5]\n",
    "result = []\n",
    "for n in numbers:\n",
    "    if n %2 == 1:\n",
    "        result.append(n * 2)\n",
    "print(result)"
   ]
  },
  {
   "cell_type": "code",
   "execution_count": 333,
   "id": "46620ccd",
   "metadata": {},
   "outputs": [
    {
     "name": "stdout",
     "output_type": "stream",
     "text": [
      "[2, 6, 10]\n"
     ]
    }
   ],
   "source": [
    "# 6.\n",
    "result = [num * 2 for num in numbers if num % 2 == 1]\n",
    "print(result)"
   ]
  },
  {
   "cell_type": "markdown",
   "id": "48b7c95e",
   "metadata": {},
   "source": [
    "# 초보자를 위한 파이썬"
   ]
  },
  {
   "cell_type": "code",
   "execution_count": null,
   "id": "7fff5468",
   "metadata": {},
   "outputs": [
    {
     "name": "stdout",
     "output_type": "stream",
     "text": [
      "naver,kakao,sk,samsung\n",
      "naver;kakao;sk;samsung\n",
      "naver/kakao/sk/samsung\n"
     ]
    }
   ],
   "source": [
    "# 7~8 문자 치환하기\n",
    "a = \"naver,kakao,sk,samsung\"\n",
    "print(a)\n",
    "\n",
    "print(a.replace(\",\",\";\"))\n",
    "print(a.replace(\",\",\"/\"))"
   ]
  },
  {
   "cell_type": "code",
   "execution_count": null,
   "id": "b82b9e7d",
   "metadata": {},
   "outputs": [
    {
     "name": "stdout",
     "output_type": "stream",
     "text": [
      "firstsecond\n"
     ]
    }
   ],
   "source": [
    "# 9 줄바꿈 무시하기\n",
    "print(\"first\", end=\"\")\n",
    "print(\"second\")"
   ]
  },
  {
   "cell_type": "code",
   "execution_count": null,
   "id": "3f29310a",
   "metadata": {},
   "outputs": [
    {
     "name": "stdout",
     "output_type": "stream",
     "text": [
      "1749024\n"
     ]
    }
   ],
   "source": [
    "# 20 숫자 연산하기\n",
    "rate = int(48584)\n",
    "print(rate * 36)\n"
   ]
  },
  {
   "cell_type": "code",
   "execution_count": null,
   "id": "2dfa920a",
   "metadata": {},
   "outputs": [
    {
     "name": "stdout",
     "output_type": "stream",
     "text": [
      "2210\n"
     ]
    }
   ],
   "source": [
    "# 22 문자열 추출하기\n",
    "a = license_plate = \"24가 2210\"\n",
    "print(a[-4:])"
   ]
  },
  {
   "cell_type": "code",
   "execution_count": null,
   "id": "9c853db2",
   "metadata": {},
   "outputs": [
    {
     "name": "stdout",
     "output_type": "stream",
     "text": [
      "NOHTYP\n"
     ]
    }
   ],
   "source": [
    "# 24 문자열을 원소로 쪼갠 후 순서를 뒤집어서 다시 문자열로 만들기\n",
    "string = \"PYTHON\"\n",
    "a = list(string)\n",
    "a.reverse()\n",
    "print(\"\".join(a))\n"
   ]
  },
  {
   "cell_type": "code",
   "execution_count": null,
   "id": "d7931fc1",
   "metadata": {},
   "outputs": [
    {
     "name": "stdout",
     "output_type": "stream",
     "text": [
      "010 1111 2222\n"
     ]
    }
   ],
   "source": [
    "# 25 문자 치환하기\n",
    "a = phone_number = \"010-1111-2222\"\n",
    "print(a.replace(\"-\", \" \"))"
   ]
  },
  {
   "cell_type": "code",
   "execution_count": null,
   "id": "0a688948",
   "metadata": {},
   "outputs": [
    {
     "name": "stdout",
     "output_type": "stream",
     "text": [
      "5969782550\n",
      "타입: <class 'int'>\n"
     ]
    }
   ],
   "source": [
    "# 38 숫자로 이루어진 문자열을 변수로 지정한 후 특정 문자를 치환하고, 이것을 정수형으로 변환하여 타입을 추출하기 \n",
    "a = 상장주식수 = \"5,969,782,550\"\n",
    "b = int(a.replace(\",\",\"\"))\n",
    "print(b)\n",
    "print(\"타입:\",type(b))"
   ]
  },
  {
   "cell_type": "code",
   "execution_count": null,
   "id": "a0e560cd",
   "metadata": {},
   "outputs": [
    {
     "name": "stdout",
     "output_type": "stream",
     "text": [
      "삼성전자\n"
     ]
    }
   ],
   "source": [
    "# 40 \"띄어쓰기\" 라는 문자를 공백으로 치환하기 \n",
    "data = \"    삼성전자    \"\n",
    "print(data.replace(\" \", \"\"))"
   ]
  },
  {
   "cell_type": "code",
   "execution_count": null,
   "id": "319097e7",
   "metadata": {},
   "outputs": [
    {
     "data": {
      "text/plain": [
       "True"
      ]
     },
     "execution_count": 375,
     "metadata": {},
     "output_type": "execute_result"
    }
   ],
   "source": [
    "# 44 파일 이름의 끝(형식)이 xlsx인지 불리언으로 알아보기\n",
    "file_name = \"보고서.xlsx\"\n",
    "file_name.endswith(\"xlsx\")"
   ]
  },
  {
   "cell_type": "code",
   "execution_count": null,
   "id": "a4136546",
   "metadata": {},
   "outputs": [
    {
     "data": {
      "text/plain": [
       "True"
      ]
     },
     "execution_count": 377,
     "metadata": {},
     "output_type": "execute_result"
    }
   ],
   "source": [
    "# 46 파일 이름의 시작을 확인하기\n",
    "file_name = \"2020_보고서.xlsx\"\n",
    "file_name.startswith(\"2020\")\n"
   ]
  },
  {
   "cell_type": "code",
   "execution_count": null,
   "id": "2f7032a0",
   "metadata": {},
   "outputs": [
    {
     "name": "stdout",
     "output_type": "stream",
     "text": [
      "hello\n",
      "world\n"
     ]
    }
   ],
   "source": [
    "# 47 문자열에서 띄어쓰기의 위치를 찾아내고 앞 뒤 단어를 따로 추출하기\n",
    "a = \"hello world\"\n",
    "b = a.find(\" \")\n",
    "print(a[0:b])\n",
    "print(a[b+1:])"
   ]
  },
  {
   "cell_type": "code",
   "execution_count": null,
   "id": "818439d9",
   "metadata": {},
   "outputs": [
    {
     "name": "stdout",
     "output_type": "stream",
     "text": [
      "btc\n",
      "krw\n"
     ]
    }
   ],
   "source": [
    "# 48 문자열에서 기호의 위치를 찾아내고 앞 뒤 단어를 따로 추출하기\n",
    "ticker = \"btc_krw\"\n",
    "b = ticker.find(\"_\")\n",
    "print(ticker[0:b])\n",
    "print(ticker[b+1:])"
   ]
  },
  {
   "cell_type": "code",
   "execution_count": null,
   "id": "3139e6c6",
   "metadata": {},
   "outputs": [
    {
     "name": "stdout",
     "output_type": "stream",
     "text": [
      "039490\n"
     ]
    }
   ],
   "source": [
    "# 50 오른쪽에 있는 일정한 기호들을 무시하고 문자열을 출력하기\n",
    "data = \"039490.........\"\n",
    "print(data.rstrip(\".\"))"
   ]
  },
  {
   "cell_type": "code",
   "execution_count": null,
   "id": "10d67f45",
   "metadata": {},
   "outputs": [
    {
     "name": "stdout",
     "output_type": "stream",
     "text": [
      "12\n"
     ]
    }
   ],
   "source": [
    "# 59 리스트의 크기 추출하기\n",
    "cook = [\"피자\", \"김밥\", \"만두\", \"양념치킨\", \"족발\", \"피자\", \"김치만두\", \"쫄면\", \"소시지\", \"라면\", \"팥빙수\", \"김치전\"]\n",
    "print(len(cook))"
   ]
  },
  {
   "cell_type": "code",
   "execution_count": null,
   "id": "7f208b8d",
   "metadata": {},
   "outputs": [
    {
     "name": "stdout",
     "output_type": "stream",
     "text": [
      "3.0\n"
     ]
    }
   ],
   "source": [
    "# 60 숫자로 이루어진 리스트가 있다. 이 리스트의의 총합을 구하고, 리스트의 크기로 나누어 리스트의 평균값을 구하라\n",
    "nums = [1, 2, 3, 4, 5]\n",
    "print(sum(nums)/len(nums))"
   ]
  },
  {
   "cell_type": "code",
   "execution_count": null,
   "id": "b3a1009a",
   "metadata": {},
   "outputs": [
    {
     "name": "stdout",
     "output_type": "stream",
     "text": [
      "[5, 4, 3, 2, 1]\n"
     ]
    }
   ],
   "source": [
    "# 64 리스트 뒤집기\n",
    "nums = [1, 2, 3, 4, 5]\n",
    "nums.reverse()\n",
    "print(nums)"
   ]
  },
  {
   "cell_type": "code",
   "execution_count": null,
   "id": "573d0ae3",
   "metadata": {},
   "outputs": [
    {
     "name": "stdout",
     "output_type": "stream",
     "text": [
      "(2, 4, 6, 8, 10, 12, 14, 16, 18, 20, 22, 24, 26, 28, 30, 32, 34, 36, 38, 40, 42, 44, 46, 48, 50, 52, 54, 56, 58, 60, 62, 64, 66, 68, 70, 72, 74, 76, 78, 80, 82, 84, 86, 88, 90, 92, 94, 96, 98)\n"
     ]
    }
   ],
   "source": [
    "# 80 일정 범위에서 짝수로 이루어진 튜플 생성하기\n",
    "umd = tuple(range(2, 100, 2))\n",
    "print(umd)"
   ]
  }
 ],
 "metadata": {
  "kernelspec": {
   "display_name": "Python 3",
   "language": "python",
   "name": "python3"
  },
  "language_info": {
   "codemirror_mode": {
    "name": "ipython",
    "version": 3
   },
   "file_extension": ".py",
   "mimetype": "text/x-python",
   "name": "python",
   "nbconvert_exporter": "python",
   "pygments_lexer": "ipython3",
   "version": "3.11.9"
  }
 },
 "nbformat": 4,
 "nbformat_minor": 5
}
