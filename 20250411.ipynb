{
 "cells": [
  {
   "cell_type": "code",
   "execution_count": 1,
   "id": "c71a8260",
   "metadata": {},
   "outputs": [
    {
     "name": "stdout",
     "output_type": "stream",
     "text": [
      "안녕하세요, 윤재님!\n"
     ]
    }
   ],
   "source": [
    "name = input(\"이름을 입력하세요: \")\n",
    "print(f\"안녕하세요, {name}님!\")"
   ]
  },
  {
   "cell_type": "code",
   "execution_count": 5,
   "id": "b460b933",
   "metadata": {},
   "outputs": [
    {
     "name": "stdout",
     "output_type": "stream",
     "text": [
      "이름: 윤재\n",
      "나이: 20세\n"
     ]
    }
   ],
   "source": [
    "이름 = input(\"이름을 입력하세요: \")\n",
    "나이 = input(\"나이를 입력하세요: \")\n",
    "print(\"이름:\", 이름)\n",
    "print(f\"나이: {나이}세\")"
   ]
  },
  {
   "cell_type": "code",
   "execution_count": 7,
   "id": "2cfb8060",
   "metadata": {},
   "outputs": [
    {
     "name": "stdout",
     "output_type": "stream",
     "text": [
      "합: 50\n"
     ]
    }
   ],
   "source": [
    "a = int(input(\"첫 번째 숫자를 입력하세요: \"))\n",
    "b = int(input(\"두 번째 숫자를 입력하세요: \"))\n",
    "print(\"합:\", a + b)"
   ]
  },
  {
   "cell_type": "code",
   "execution_count": 15,
   "id": "b1720afd",
   "metadata": {},
   "outputs": [
    {
     "name": "stdout",
     "output_type": "stream",
     "text": [
      "Python-Programming!\n"
     ]
    }
   ],
   "source": [
    "print(\"Python\", \"Programming\", sep=\"-\", end=\"\")\n",
    "print(\"!\")"
   ]
  },
  {
   "cell_type": "code",
   "execution_count": null,
   "id": "518c6504",
   "metadata": {},
   "outputs": [
    {
     "name": "stdout",
     "output_type": "stream",
     "text": [
      "3.75\n"
     ]
    }
   ],
   "source": [
    "a = float(input(\"첫 번째 숫자를 입력하세요: \"))\n",
    "b = float(input(\"두 번째 숫자를 입력하세요: \"))\n",
    "print((a+b)/2)\n"
   ]
  },
  {
   "cell_type": "code",
   "execution_count": 14,
   "id": "b89525c5",
   "metadata": {},
   "outputs": [
    {
     "name": "stdout",
     "output_type": "stream",
     "text": [
      "총합: 27\n"
     ]
    }
   ],
   "source": [
    "numbers = [int(x) for x in input(\"계산할 수를 띄워 입력하세요: \").split()]\n",
    "print(\"총합:\", sum(numbers))"
   ]
  },
  {
   "cell_type": "code",
   "execution_count": 16,
   "id": "03eae5f6",
   "metadata": {},
   "outputs": [
    {
     "name": "stdout",
     "output_type": "stream",
     "text": [
      "입력한 숫자 6는(은) 짝수입니다\n"
     ]
    }
   ],
   "source": [
    "a = int(input(\"숫자를 입력하세요: \"))\n",
    "if a % 2 == 0:\n",
    "    print(f\"입력한 숫자 {a}는(은) 짝수입니다\")\n",
    "else:\n",
    "    print(f\"입력한 숫자 {a}는(은) 홀수입니다\")\n"
   ]
  },
  {
   "cell_type": "code",
   "execution_count": 20,
   "id": "26df18c4",
   "metadata": {},
   "outputs": [
    {
     "name": "stdout",
     "output_type": "stream",
     "text": [
      "4 5 6 7 "
     ]
    }
   ],
   "source": [
    "a = int(input(\"시작 값을 입력하세요: \"))\n",
    "b = int(input(\"끝 값을 입력하세요: \"))\n",
    "for i in range(a+1, b):\n",
    "    print(i, end=\" \")\n"
   ]
  },
  {
   "cell_type": "code",
   "execution_count": 22,
   "id": "5c9c478b",
   "metadata": {},
   "outputs": [
    {
     "name": "stdout",
     "output_type": "stream",
     "text": [
      "5 × 1 = 5\n",
      "5 × 2 = 10\n",
      "5 × 3 = 15\n",
      "5 × 4 = 20\n",
      "5 × 5 = 25\n",
      "5 × 6 = 30\n",
      "5 × 7 = 35\n",
      "5 × 8 = 40\n",
      "5 × 9 = 45\n"
     ]
    }
   ],
   "source": [
    "a = int(input(\"출력할 구구단의 숫자를 입력하세요: \"))\n",
    "for i in range(1, 10):\n",
    "    print(f\"{a} × {i} = {a*i}\")"
   ]
  },
  {
   "cell_type": "code",
   "execution_count": 25,
   "id": "145b2f04",
   "metadata": {},
   "outputs": [
    {
     "name": "stdout",
     "output_type": "stream",
     "text": [
      "다시 입력하십시오.\n"
     ]
    }
   ],
   "source": [
    "리스트 = [\"a\", \"b\", \"c\", \"d\"]\n",
    "n = input(\"철자를 입력하세요: \")\n",
    "if n in 리스트:\n",
    "    print(\"확인됐습니다\")\n",
    "else:\n",
    "    print(\"다시 입력하십시오.\")"
   ]
  },
  {
   "cell_type": "code",
   "execution_count": 28,
   "id": "25cb6682",
   "metadata": {},
   "outputs": [
    {
     "name": "stdout",
     "output_type": "stream",
     "text": [
      "거짓말하지마세요\n"
     ]
    }
   ],
   "source": [
    "height = int(input(\"키를 입력하십시오: \"))\n",
    "weight = int(input(\"몸무게를 입력하십시오: \"))\n",
    "bmi = weight / (height ** 2)\n",
    "if bmi <= 0:\n",
    "    print(\"거짓말하지마세요\")\n",
    "elif bmi <= 18.5:\n",
    "    print(f\"당신의 bmi지수는 {bmi}이고, 저체중입니다\")\n",
    "elif bmi <= 24.9:\n",
    "    print(f\"당신의 bmi지수는 {bmi}이고, 정상입니다\")\n",
    "elif bmi <= 29.9:\n",
    "    print(f\"당신의 bmi지수는 {bmi}이고, 과체중입니다\")\n",
    "else :\n",
    "    print(f\"당신의 bmi지수는 {bmi}이고, 비만입니다\")"
   ]
  },
  {
   "cell_type": "markdown",
   "id": "5e22570c",
   "metadata": {},
   "source": [
    "# 점프투파이썬 "
   ]
  },
  {
   "cell_type": "code",
   "execution_count": 30,
   "id": "7dec1a67",
   "metadata": {},
   "outputs": [
    {
     "data": {
      "text/plain": [
       "5.6667"
      ]
     },
     "execution_count": 30,
     "metadata": {},
     "output_type": "execute_result"
    }
   ],
   "source": [
    "# 5-8.\n",
    "round(17 / 3, 4)"
   ]
  },
  {
   "cell_type": "code",
   "execution_count": 39,
   "id": "fbc4864b",
   "metadata": {},
   "outputs": [
    {
     "name": "stdout",
     "output_type": "stream",
     "text": [
      "42 1 7 14 19 16 "
     ]
    }
   ],
   "source": [
    "# 5-12.\n",
    "import random\n",
    "for i in range (6):\n",
    "    numbers = random.randint(1, 45)\n",
    "    print(numbers, end=\" \")"
   ]
  },
  {
   "cell_type": "code",
   "execution_count": 43,
   "id": "dd1d5ce8",
   "metadata": {},
   "outputs": [
    {
     "name": "stdout",
     "output_type": "stream",
     "text": [
      "1051 days, 0:00:00\n"
     ]
    }
   ],
   "source": [
    "# 5-13.\n",
    "import datetime\n",
    "interval = datetime.date(1998,10,6)- datetime.date(1995,11,20)\n",
    "print(interval)\n"
   ]
  },
  {
   "cell_type": "code",
   "execution_count": null,
   "id": "531d843b",
   "metadata": {},
   "outputs": [
    {
     "name": "stdout",
     "output_type": "stream",
     "text": [
      "('김예지', 13.31)\n",
      "('전정웅', 13.39)\n",
      "('한지영', 14.83)\n",
      "('윤서현', 15.25)\n",
      "('박예원', 15.34)\n",
      "('김시우', 15.48)\n",
      "('송순자', 15.57)\n",
      "('김혜진', 16.63)\n",
      "('김옥순', 16.71)\n",
      "('최보람', 17.14)\n",
      "('이성호', 17.7)\n",
      "('배숙자', 17.9)\n"
     ]
    }
   ],
   "source": [
    "# 5-14. 리스트에서 2열을 추출하여 크기 순으로 정렬하기\n",
    "from operator import itemgetter\n",
    "data=[\n",
    "    ('윤서현', 15.25),\n",
    "    ('김예지', 13.31),\n",
    "    ('박예원', 15.34),\n",
    "    ('송순자', 15.57),\n",
    "    ('김시우', 15.48),\n",
    "    ('배숙자', 17.9),\n",
    "    ('전정웅', 13.39),\n",
    "    ('김혜진', 16.63),\n",
    "    ('최보람', 17.14),\n",
    "    ('한지영', 14.83),\n",
    "    ('이성호', 17.7),\n",
    "    ('김옥순', 16.71)\n",
    "]\n",
    "data = sorted(data, key=itemgetter(1))\n",
    "for a in data:\n",
    "    print(a)"
   ]
  },
  {
   "cell_type": "code",
   "execution_count": null,
   "id": "b21daf34",
   "metadata": {},
   "outputs": [
    {
     "name": "stdout",
     "output_type": "stream",
     "text": [
      "[('나지혜', '성성민'), ('나지혜', '윤지현'), ('나지혜', '김정숙'), ('성성민', '윤지현'), ('성성민', '김정숙'), ('윤지현', '김정숙')]\n"
     ]
    }
   ],
   "source": [
    "# 5-15. 리스트에서 원소 두개를 조합하여 리스트로 만들기\n",
    "from itertools import combinations\n",
    "members = ['나지혜', '성성민', '윤지현', '김정숙']\n",
    "print(list(combinations(members,2)))"
   ]
  },
  {
   "cell_type": "code",
   "execution_count": null,
   "id": "56d0998a",
   "metadata": {},
   "outputs": [
    {
     "name": "stdout",
     "output_type": "stream",
     "text": [
      "abcd\n",
      "abdc\n",
      "acbd\n",
      "acdb\n",
      "adbc\n",
      "adcb\n",
      "bacd\n",
      "badc\n",
      "bcad\n",
      "bcda\n",
      "bdac\n",
      "bdca\n",
      "cabd\n",
      "cadb\n",
      "cbad\n",
      "cbda\n",
      "cdab\n",
      "cdba\n",
      "dabc\n",
      "dacb\n",
      "dbac\n",
      "dbca\n",
      "dcab\n",
      "dcba\n"
     ]
    }
   ],
   "source": [
    "# 5-16. \"abcd\"의 순열을 구하고 이를 리스트로 만든 후 리스트의 크기에 해당하는 원소를 공백 없이 조인하기\n",
    "from itertools import permutations\n",
    "a = list(permutations(\"abcd\", 4))\n",
    "for i in range (len(a)):\n",
    "    print(''.join(a[i]))"
   ]
  },
  {
   "cell_type": "code",
   "execution_count": null,
   "id": "a7bd7eeb",
   "metadata": {},
   "outputs": [
    {
     "name": "stdout",
     "output_type": "stream",
     "text": [
      "====일하는 사람====\n",
      "{'김승현': '청소'}\n",
      "{'김진호': '빨래'}\n",
      "{'강춘자': '설거지'}\n",
      "====쉬는 사람====\n",
      "이예준, 김현주는 쉬고 오세요~\n",
      "====일하는 사람====\n",
      "{'김승현': '청소'}\n",
      "{'김진호': '빨래'}\n",
      "{'이예준': '설거지'}\n",
      "====쉬는 사람====\n",
      "강춘자, 김현주는 쉬고 오세요~\n",
      "====일하는 사람====\n",
      "{'김승현': '청소'}\n",
      "{'김진호': '빨래'}\n",
      "{'김현주': '설거지'}\n",
      "====쉬는 사람====\n",
      "이예준, 강춘자는 쉬고 오세요~\n",
      "====일하는 사람====\n",
      "{'김승현': '청소'}\n",
      "{'강춘자': '빨래'}\n",
      "{'이예준': '설거지'}\n",
      "====쉬는 사람====\n",
      "김진호, 김현주는 쉬고 오세요~\n",
      "====일하는 사람====\n",
      "{'김승현': '청소'}\n",
      "{'강춘자': '빨래'}\n",
      "{'김현주': '설거지'}\n",
      "====쉬는 사람====\n",
      "이예준, 김진호는 쉬고 오세요~\n",
      "====일하는 사람====\n",
      "{'김승현': '청소'}\n",
      "{'이예준': '빨래'}\n",
      "{'김현주': '설거지'}\n",
      "====쉬는 사람====\n",
      "강춘자, 김진호는 쉬고 오세요~\n",
      "====일하는 사람====\n",
      "{'김진호': '청소'}\n",
      "{'강춘자': '빨래'}\n",
      "{'이예준': '설거지'}\n",
      "====쉬는 사람====\n",
      "김승현, 김현주는 쉬고 오세요~\n",
      "====일하는 사람====\n",
      "{'김진호': '청소'}\n",
      "{'강춘자': '빨래'}\n",
      "{'김현주': '설거지'}\n",
      "====쉬는 사람====\n",
      "김승현, 이예준는 쉬고 오세요~\n",
      "====일하는 사람====\n",
      "{'김진호': '청소'}\n",
      "{'이예준': '빨래'}\n",
      "{'김현주': '설거지'}\n",
      "====쉬는 사람====\n",
      "김승현, 강춘자는 쉬고 오세요~\n",
      "====일하는 사람====\n",
      "{'강춘자': '청소'}\n",
      "{'이예준': '빨래'}\n",
      "{'김현주': '설거지'}\n",
      "====쉬는 사람====\n",
      "김승현, 김진호는 쉬고 오세요~\n"
     ]
    }
   ],
   "source": [
    "# 5-17. mem의 3명을 조합한 후 이 3명에 work의 3가지를 할당하고, 나머지 두명에 휴식을 알리기\n",
    "from itertools import product\n",
    "mem = '김승현', '김진호', '강춘자', '이예준', '김현주'\n",
    "work = '청소', '빨래', '설거지'\n",
    "member_comb = combinations(mem, 3)\n",
    "for comb in member_comb:\n",
    "    print(\"====일하는 사람====\")\n",
    "    for i in range (len(comb)):\n",
    "        print(dict({comb[i]:work[i]}))\n",
    "    print(\"====쉬는 사람====\")  \n",
    "    winner = list(set(mem)-set(comb))\n",
    "    print(f\"{winner[0]},\", f\"{winner[1]}는 쉬고 오세요~\")  \n"
   ]
  },
  {
   "cell_type": "code",
   "execution_count": null,
   "id": "cec3f693",
   "metadata": {},
   "outputs": [
    {
     "name": "stdout",
     "output_type": "stream",
     "text": [
      "40cm의 타일이 10.0개가 필요해요\n"
     ]
    }
   ],
   "source": [
    "# 5-18. 가로가 200, 세로가 80인 직사각형에 들어갈 수 있는 타일 중에 가장 큰 타일 구하기(math의 gcd사용)\n",
    "from math import gcd\n",
    "x = 200\n",
    "y = 80\n",
    "square_dist = gcd(x, y)\n",
    "pieces = (x/square_dist) * (y/square_dist)\n",
    "print(f\"{square_dist}cm의 타일이 {pieces}개가 필요해요\")"
   ]
  }
 ],
 "metadata": {
  "kernelspec": {
   "display_name": "Python 3",
   "language": "python",
   "name": "python3"
  },
  "language_info": {
   "codemirror_mode": {
    "name": "ipython",
    "version": 3
   },
   "file_extension": ".py",
   "mimetype": "text/x-python",
   "name": "python",
   "nbconvert_exporter": "python",
   "pygments_lexer": "ipython3",
   "version": "3.11.9"
  }
 },
 "nbformat": 4,
 "nbformat_minor": 5
}
