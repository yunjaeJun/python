{
 "cells": [
  {
   "cell_type": "code",
   "execution_count": 2,
   "id": "79c8cd7b",
   "metadata": {},
   "outputs": [],
   "source": [
    "import numpy as np"
   ]
  },
  {
   "cell_type": "code",
   "execution_count": 9,
   "id": "8cc3823f",
   "metadata": {},
   "outputs": [
    {
     "name": "stdout",
     "output_type": "stream",
     "text": [
      "[ 1  2  3  4  5  6  7  8  9 10 11 12]\n",
      "\n",
      " [[ 1  2  3  4]\n",
      " [ 5  6  7  8]\n",
      " [ 9 10 11 12]]\n",
      "\n",
      " [ 2  6 10]\n"
     ]
    }
   ],
   "source": [
    "#문제 1.\n",
    "# 1~12까지 숫자를 포함한 배열을 만들고, 이를 3행 4열로 reshape 하시오.\n",
    "# 그리고 두 번째 열만 추출하시오.\n",
    "arr = np.arange(1, 13)\n",
    "print(arr)\n",
    "arr = arr.reshape(3,4)\n",
    "print(\"\\n\", arr)\n",
    "print(\"\\n\", arr[:,1])"
   ]
  },
  {
   "cell_type": "code",
   "execution_count": 16,
   "id": "f2b2fdb8",
   "metadata": {},
   "outputs": [
    {
     "name": "stdout",
     "output_type": "stream",
     "text": [
      "[[ 5 10 15]\n",
      " [ 3  7 12]]\n",
      "\n",
      " [[False  True  True]\n",
      " [False False  True]]\n"
     ]
    }
   ],
   "source": [
    "# 문제 2.\n",
    "# 다음 배열에서 값이 10 이상인 값만 True, 나머지는 False인 불리언 배열을 만드시오\n",
    "\n",
    "arr = np.array([[5, 10, 15], [3, 7, 12]])\n",
    "print(arr)\n",
    "print(\"\\n\", arr >= 10)"
   ]
  },
  {
   "cell_type": "code",
   "execution_count": 30,
   "id": "3793f841",
   "metadata": {},
   "outputs": [
    {
     "name": "stdout",
     "output_type": "stream",
     "text": [
      "[[1 4 2]\n",
      " [7 0 9]]\n",
      "\n",
      " 4 9\n"
     ]
    }
   ],
   "source": [
    "# 문제 3.\n",
    "# 다음 배열에서 각 행의 최대값을 구하시오.\n",
    "\n",
    "arr = np.array([[1, 4, 2], [7, 0, 9]])\n",
    "print(arr)\n",
    "print(\"\\n\", np.max(arr[0]), np.max(arr[1]))"
   ]
  },
  {
   "cell_type": "code",
   "execution_count": 48,
   "id": "c8109352",
   "metadata": {},
   "outputs": [
    {
     "name": "stdout",
     "output_type": "stream",
     "text": [
      "[[44 47]\n",
      " [64 67]\n",
      " [67  9]\n",
      " [83 21]\n",
      " [36 87]]\n",
      "\n",
      " 294 231\n",
      "\n",
      " 58.8 46.2\n"
     ]
    }
   ],
   "source": [
    "# 문제 4.\n",
    "# np.random.seed(0)을 고정한 후, 정수 0~99 중 5행 2열의 랜덤 배열을 만들고, 각 열의 평균을 구하시오.\n",
    "\n",
    "a = np.random.seed(0)\n",
    "a = np.random.randint(0,100, (5,2))\n",
    "print(a)\n",
    "print(\"\\n\", np.sum(a[:, 0]), np.sum(a[:, 1]))\n",
    "print(\"\\n\", np.average(a[:, 0]), np.average(a[:, 1]))"
   ]
  },
  {
   "cell_type": "code",
   "execution_count": 56,
   "id": "92af04c5",
   "metadata": {},
   "outputs": [
    {
     "name": "stdout",
     "output_type": "stream",
     "text": [
      "5\n",
      "6\n",
      "6\n"
     ]
    }
   ],
   "source": [
    "# 문제 5.\n",
    "# 다음 문자열 배열에서 각 원소의 길이를 구하시오.\n",
    "\n",
    "arr = np.array(['apple', 'banana', 'cherry'])\n",
    "for i in range (len(arr)):\n",
    "    print(len(arr[i]))"
   ]
  },
  {
   "cell_type": "code",
   "execution_count": 87,
   "id": "9018ce00",
   "metadata": {},
   "outputs": [
    {
     "name": "stdout",
     "output_type": "stream",
     "text": [
      "[-1  2 -1  4 -1  6]\n"
     ]
    }
   ],
   "source": [
    "# 문제 6.\n",
    "# 다음 배열의 짝수는 그대로 두고, 홀수는 -1로 바꾸는 배열을 만드시오.\n",
    "# np.where 사용\n",
    "arr = np.array([1, 2, 3, 4, 5, 6]) \n",
    "arr = np.where(arr % 2 == 0, arr, -1)\n",
    "print(arr)"
   ]
  },
  {
   "cell_type": "code",
   "execution_count": 64,
   "id": "94d71b6a",
   "metadata": {},
   "outputs": [
    {
     "name": "stdout",
     "output_type": "stream",
     "text": [
      "2.0\n"
     ]
    }
   ],
   "source": [
    "# 문제 7.\n",
    "# 3차원 배열 arr이 다음과 같을 때, 각 2차원 행렬(면)의 첫 번째 행의 평균을 구하시오.\n",
    "\n",
    "arr = np.array([\n",
    "    [[1, 2, 3], [4, 5, 6]],\n",
    "    [[7, 8, 9], [10, 11, 12]]\n",
    "])\n",
    "print(np.average(arr[0][0,:]))"
   ]
  },
  {
   "cell_type": "code",
   "execution_count": 110,
   "id": "10fdfda8",
   "metadata": {},
   "outputs": [
    {
     "name": "stdout",
     "output_type": "stream",
     "text": [
      "[[ 3  6  3  6]\n",
      " [19  2 18 18]\n",
      " [ 6 11  0  4]\n",
      " [13  9  2  1]\n",
      " [12 15  1 12]]\n",
      "\n",
      " [[  3 100   3 100]\n",
      " [100   2  18  18]\n",
      " [100  11   0   4]\n",
      " [100   9   2   1]\n",
      " [ 12 100   1  12]]\n"
     ]
    }
   ],
   "source": [
    "# 문제 8.\n",
    "# 임의의 (5, 4) 배열을 생성한 뒤, 열 별로 가장 큰 값을 100으로 바꾸는 코드를 작성하시오.\n",
    "# (단, 같은 값이 여러 개일 경우 전부 바뀜)\n",
    "arr = np.random.randint(0,20, (5,4))\n",
    "print(arr)\n",
    "for i in range (len(arr)):\n",
    "    arr[arr == np.max(arr[i])] = 100\n",
    "print(\"\\n\", arr)"
   ]
  },
  {
   "cell_type": "code",
   "execution_count": 115,
   "id": "df4cfb66",
   "metadata": {},
   "outputs": [
    {
     "name": "stdout",
     "output_type": "stream",
     "text": [
      "[2 2 2]\n"
     ]
    }
   ],
   "source": [
    "# 문제 9.\n",
    "# 다음 2차원 배열에서 각 열(column)별로 최소값이 있는 인덱스를 구하시오.\n",
    "# argmin() 함수를 사용하시오.\n",
    "arr = np.array([[12, 15, 10],[5, 7, 9],[3, 4, 6]])\n",
    "print(np.argmin(arr, axis=0))"
   ]
  },
  {
   "cell_type": "code",
   "execution_count": 150,
   "id": "f58e45c6",
   "metadata": {},
   "outputs": [
    {
     "name": "stdout",
     "output_type": "stream",
     "text": [
      "[[2 1 1]\n",
      " [3 1 1]\n",
      " [4 1 1]]\n"
     ]
    }
   ],
   "source": [
    "# 문제 10.\n",
    "# 다음과 같은 2차원 배열이 있을 때,\n",
    "# **행(row)과 열(column)을 교환(transpose)**한 후, 첫 번째 열을 제외하고 나머지 열을 1로 초기화하시오.\n",
    "arr = np.array([[2, 3, 4],\n",
    "                [5, 6, 7],\n",
    "                [8, 9, 10]])\n",
    "arr = np.transpose(arr)\n",
    "arr[:,1:] = True\n",
    "print(arr)"
   ]
  },
  {
   "cell_type": "markdown",
   "id": "8ca648aa",
   "metadata": {},
   "source": [
    "# 강의자료"
   ]
  },
  {
   "cell_type": "code",
   "execution_count": 180,
   "id": "42eb904c",
   "metadata": {},
   "outputs": [
    {
     "name": "stdout",
     "output_type": "stream",
     "text": [
      "[[ 10  20  30]\n",
      " [ 40  50  60]\n",
      " [ 70  80  90]\n",
      " [100 110 120]]\n",
      "\n",
      " [[0 0]\n",
      " [3 0]\n",
      " [3 1]\n",
      " [3 2]]\n",
      "\n",
      " [[ 0 20 30]\n",
      " [40 50 60]\n",
      " [70 80 90]\n",
      " [ 0  0  0]]\n"
     ]
    }
   ],
   "source": [
    "# 2-3-4\n",
    "arr = np.array([[10, 20, 30], [40, 50, 60], [70, 80, 90], [100, 110, 120]])\n",
    "print(arr)\n",
    "\n",
    "index = np.argwhere(np.char.startswith(arr.astype(str), '1'))\n",
    "print(\"\\n\", index)\n",
    "\n",
    "for i in index:\n",
    "    arr[tuple(i)] = 0\n",
    "print(\"\\n\", arr)\n",
    "\n"
   ]
  },
  {
   "cell_type": "code",
   "execution_count": 181,
   "id": "e6f09864",
   "metadata": {},
   "outputs": [
    {
     "name": "stdout",
     "output_type": "stream",
     "text": [
      "[[ 0  0  0  0  0]\n",
      " [ 5  6  7  8  9]\n",
      " [10 11 12 13 14]\n",
      " [15 16 17 18 19]\n",
      " [20 21 22 23 24]]\n"
     ]
    }
   ],
   "source": [
    "# 2-3-5\n",
    "for i in range (6):\n",
    "    a5rr = np.arange(5*i)\n",
    "a6rr = a5rr.reshape(5,5)\n",
    "a6rr[0, :] = 0\n",
    "print(a6rr)"
   ]
  }
 ],
 "metadata": {
  "kernelspec": {
   "display_name": "Python 3",
   "language": "python",
   "name": "python3"
  },
  "language_info": {
   "codemirror_mode": {
    "name": "ipython",
    "version": 3
   },
   "file_extension": ".py",
   "mimetype": "text/x-python",
   "name": "python",
   "nbconvert_exporter": "python",
   "pygments_lexer": "ipython3",
   "version": "3.11.9"
  }
 },
 "nbformat": 4,
 "nbformat_minor": 5
}
