{
 "cells": [
  {
   "cell_type": "markdown",
   "id": "cb5182f6",
   "metadata": {},
   "source": [
    "# 강의자료 1-4 연습문제"
   ]
  },
  {
   "cell_type": "code",
   "execution_count": 2,
   "id": "f2b850b1",
   "metadata": {},
   "outputs": [
    {
     "name": "stdout",
     "output_type": "stream",
     "text": [
      "입력 완료\n"
     ]
    }
   ],
   "source": [
    "\n",
    "while True:\n",
    "    a = input(\"exit을 입력하면 종료됩니다\") \n",
    "    if a == \"exit\":\n",
    "        print(\"입력 완료\")\n",
    "        break\n",
    "    \n",
    "        "
   ]
  },
  {
   "cell_type": "code",
   "execution_count": 5,
   "id": "76cc3178",
   "metadata": {},
   "outputs": [
    {
     "name": "stdout",
     "output_type": "stream",
     "text": [
      "cat\n",
      "dog\n",
      "elephant\n",
      "tiger\n"
     ]
    }
   ],
   "source": [
    "a = animals = [\"cat\", \"dog\", \"elephant\", \"tiger\"]\n",
    "for i in range (4):\n",
    "    print(a[i])"
   ]
  },
  {
   "cell_type": "code",
   "execution_count": 4,
   "id": "29f2647f",
   "metadata": {},
   "outputs": [
    {
     "name": "stdout",
     "output_type": "stream",
     "text": [
      "[4, 16, 36, 64]\n"
     ]
    }
   ],
   "source": [
    "numbers = [2, 4, 6, 8]\n",
    "a = []\n",
    "for i in range(4):\n",
    "    a.append(numbers[i]**2)\n",
    "print(a)"
   ]
  },
  {
   "cell_type": "code",
   "execution_count": 6,
   "id": "bac4b669",
   "metadata": {},
   "outputs": [
    {
     "name": "stdout",
     "output_type": "stream",
     "text": [
      "i = 0, j= 0\n",
      "i = 0, j= 1\n",
      "i = 1, j= 0\n",
      "i = 1, j= 1\n",
      "i = 2, j= 0\n",
      "i = 2, j= 1\n"
     ]
    }
   ],
   "source": [
    "for i  in range(3):\n",
    "    for j in range(2):\n",
    "        print(f\"i = {i}, j= {j}\")"
   ]
  },
  {
   "cell_type": "code",
   "execution_count": 40,
   "id": "6f72aef0",
   "metadata": {},
   "outputs": [
    {
     "name": "stdout",
     "output_type": "stream",
     "text": [
      "******\n",
      "******\n",
      "******\n",
      "******\n",
      "******\n"
     ]
    }
   ],
   "source": [
    "for j in range(5):\n",
    "    for i in range(5):\n",
    "     print(\"*\", end=\"\")\n",
    "    print(\"*\")\n",
    "    "
   ]
  },
  {
   "cell_type": "code",
   "execution_count": 45,
   "id": "83a3e4b2",
   "metadata": {},
   "outputs": [
    {
     "name": "stdout",
     "output_type": "stream",
     "text": [
      "에잇 심술쟁이!!\n"
     ]
    }
   ],
   "source": [
    "a =  int(input(\"첫 번째 수 입력: \"))\n",
    "b =  int(input(\"두 번째 수 입력: \"))\n",
    "if a < b:\n",
    "    for i in range(a+1, b):\n",
    "        print(i)\n",
    "elif a > b:\n",
    "    for i in range(b+1, a):\n",
    "        print(i)\n",
    "else:\n",
    "    print('에잇 심술쟁이!!')\n",
    " "
   ]
  },
  {
   "cell_type": "code",
   "execution_count": 63,
   "id": "fe99a6e9",
   "metadata": {},
   "outputs": [
    {
     "name": "stdout",
     "output_type": "stream",
     "text": [
      "어허\n"
     ]
    }
   ],
   "source": [
    "나이 = int(input(\"나이를 입력하세요: \"))\n",
    "if 나이 <= 0:\n",
    "    print(\"어허\")\n",
    "elif 나이 <=12 :\n",
    "    print(\"어린이\")\n",
    "elif 나이 <= 18:\n",
    "    print(\"청소년\")\n",
    "elif 나이 >= 19:\n",
    "    print(\"성인\")\n"
   ]
  },
  {
   "cell_type": "code",
   "execution_count": 72,
   "id": "2f86ed47",
   "metadata": {},
   "outputs": [
    {
     "name": "stdout",
     "output_type": "stream",
     "text": [
      "입력한 숫자: ['23', '21', '22']\n",
      "가장 큰 숫자는 23입니다\n"
     ]
    }
   ],
   "source": [
    "num = []\n",
    "for a in range(0, 3):\n",
    "    a = input(\"정수를 입력하세요: \")\n",
    "    num.append(a)\n",
    "print(\"입력한 숫자:\", num)\n",
    "print(f\"가장 큰 숫자는 {max(num)}입니다\")"
   ]
  },
  {
   "cell_type": "code",
   "execution_count": 78,
   "id": "81a4078c",
   "metadata": {},
   "outputs": [
    {
     "name": "stdout",
     "output_type": "stream",
     "text": [
      "입력한 점수:  80\n",
      "B 학점\n"
     ]
    }
   ],
   "source": [
    "a = int(input(\"점수를 입력하세요: \"))\n",
    "print(\"입력한 점수: \", a)\n",
    "if a >= 95:\n",
    "    print(\"A+ 학점\")\n",
    "elif a >= 90:\n",
    "    print(\"A 학점\")\n",
    "elif a >= 80:\n",
    "    print(\"B 학점\")\n",
    "elif a >= 70:\n",
    "    print(\"C 학점\")\n",
    "elif a >= 60:\n",
    "    print(\"D 학점\")\n",
    "else:\n",
    "    print(\"F 학점\")\n"
   ]
  },
  {
   "cell_type": "code",
   "execution_count": 88,
   "id": "a8980947",
   "metadata": {},
   "outputs": [
    {
     "name": "stdout",
     "output_type": "stream",
     "text": [
      "2  ×  2  =  4\n",
      "2  ×  3  =  6\n",
      "2  ×  4  =  8\n",
      "2  ×  5  =  10\n",
      "2  ×  6  =  12\n",
      "2  ×  7  =  14\n",
      "2  ×  8  =  16\n",
      "2  ×  9  =  18\n",
      "==============\n",
      "3  ×  2  =  6\n",
      "3  ×  3  =  9\n",
      "3  ×  4  =  12\n",
      "3  ×  5  =  15\n",
      "3  ×  6  =  18\n",
      "3  ×  7  =  21\n",
      "3  ×  8  =  24\n",
      "3  ×  9  =  27\n",
      "==============\n",
      "4  ×  2  =  8\n",
      "4  ×  3  =  12\n",
      "4  ×  4  =  16\n",
      "4  ×  5  =  20\n",
      "4  ×  6  =  24\n",
      "4  ×  7  =  28\n",
      "4  ×  8  =  32\n",
      "4  ×  9  =  36\n",
      "==============\n",
      "5  ×  2  =  10\n",
      "5  ×  3  =  15\n",
      "5  ×  4  =  20\n",
      "5  ×  5  =  25\n",
      "5  ×  6  =  30\n",
      "5  ×  7  =  35\n",
      "5  ×  8  =  40\n",
      "5  ×  9  =  45\n",
      "==============\n",
      "6  ×  2  =  12\n",
      "6  ×  3  =  18\n",
      "6  ×  4  =  24\n",
      "6  ×  5  =  30\n",
      "6  ×  6  =  36\n",
      "6  ×  7  =  42\n",
      "6  ×  8  =  48\n",
      "6  ×  9  =  54\n",
      "==============\n",
      "7  ×  2  =  14\n",
      "7  ×  3  =  21\n",
      "7  ×  4  =  28\n",
      "7  ×  5  =  35\n",
      "7  ×  6  =  42\n",
      "7  ×  7  =  49\n",
      "7  ×  8  =  56\n",
      "7  ×  9  =  63\n",
      "==============\n",
      "8  ×  2  =  16\n",
      "8  ×  3  =  24\n",
      "8  ×  4  =  32\n",
      "8  ×  5  =  40\n",
      "8  ×  6  =  48\n",
      "8  ×  7  =  56\n",
      "8  ×  8  =  64\n",
      "8  ×  9  =  72\n",
      "==============\n",
      "9  ×  2  =  18\n",
      "9  ×  3  =  27\n",
      "9  ×  4  =  36\n",
      "9  ×  5  =  45\n",
      "9  ×  6  =  54\n",
      "9  ×  7  =  63\n",
      "9  ×  8  =  72\n",
      "9  ×  9  =  81\n",
      "==============\n"
     ]
    }
   ],
   "source": [
    "for i in range(2, 10):\n",
    "    for j in range(2, 10):\n",
    "        print(i, \" × \", j, \" = \", i*j)\n",
    "    print(\"==============\")    \n"
   ]
  },
  {
   "cell_type": "code",
   "execution_count": 104,
   "id": "a74b63e8",
   "metadata": {},
   "outputs": [
    {
     "name": "stdout",
     "output_type": "stream",
     "text": [
      "높이를 입력하세요:  6\n",
      "*\n",
      "**\n",
      "***\n",
      "****\n",
      "*****\n",
      "******\n"
     ]
    }
   ],
   "source": [
    "a = int(input(\"높이를 입력하세요: \"))\n",
    "print(\"높이를 입력하세요: \", a)\n",
    "for j in range(1, a+1):\n",
    "    print(\"*\"*j)"
   ]
  },
  {
   "cell_type": "code",
   "execution_count": 119,
   "id": "7b89ed35",
   "metadata": {},
   "outputs": [
    {
     "name": "stdout",
     "output_type": "stream",
     "text": [
      "높이를 입력하세요:  5\n",
      "*****\n",
      "****\n",
      "***\n",
      "**\n",
      "*\n"
     ]
    }
   ],
   "source": [
    "a = int(input(\"높이를 입력하세요: \"))\n",
    "print(\"높이를 입력하세요: \", a)\n",
    "for num in range(a, 0, -1):\n",
    "    print(num * \"*\")\n",
    "\n"
   ]
  },
  {
   "cell_type": "code",
   "execution_count": 121,
   "id": "be84540b",
   "metadata": {},
   "outputs": [
    {
     "name": "stdout",
     "output_type": "stream",
     "text": [
      "12\n",
      "15\n",
      "18\n"
     ]
    }
   ],
   "source": [
    "a = int(input(\"첫 번째 숫자를 입력하세요 (단, 두 번째 숫자보단 작을 것): \"))\n",
    "b = int(input(\"두 번째 숫자를 입력하세요: \"))\n",
    "for i in range(a+1, b):\n",
    "    if i % 3 == 0 or i% 5 == 0:\n",
    "        print(i)"
   ]
  },
  {
   "cell_type": "code",
   "execution_count": 127,
   "id": "d813607d",
   "metadata": {},
   "outputs": [
    {
     "name": "stdout",
     "output_type": "stream",
     "text": [
      "(1, 1)\n",
      "(1, 2)\n",
      "(1, 3)\n",
      "(1, 4)\n",
      "(1, 5)\n",
      "(1, 6)\n",
      "(1, 7)\n",
      "(1, 8)\n",
      "(1, 9)\n",
      "(1, 10)\n",
      "(2, 1)\n",
      "(2, 2)\n",
      "(2, 3)\n",
      "(2, 4)\n",
      "(2, 5)\n",
      "(2, 6)\n",
      "(2, 7)\n",
      "(2, 8)\n",
      "(2, 9)\n",
      "(2, 10)\n",
      "(3, 1)\n",
      "(3, 2)\n",
      "(3, 3)\n",
      "(3, 4)\n",
      "(3, 5)\n",
      "(3, 6)\n",
      "(3, 7)\n",
      "(3, 8)\n",
      "(3, 9)\n",
      "(3, 10)\n",
      "(4, 1)\n",
      "(4, 2)\n",
      "(4, 3)\n",
      "(4, 4)\n",
      "(4, 5)\n",
      "(4, 6)\n",
      "(4, 7)\n",
      "(4, 8)\n",
      "(4, 9)\n",
      "(4, 10)\n",
      "(5, 1)\n",
      "(5, 2)\n",
      "(5, 3)\n",
      "(5, 4)\n",
      "(5, 5)\n",
      "(5, 6)\n",
      "(5, 7)\n",
      "(5, 8)\n",
      "(5, 9)\n",
      "(5, 10)\n",
      "(6, 1)\n",
      "(6, 2)\n",
      "(6, 3)\n",
      "(6, 4)\n",
      "(6, 5)\n",
      "(6, 6)\n",
      "(6, 7)\n",
      "(6, 8)\n",
      "(6, 9)\n",
      "(6, 10)\n",
      "(7, 1)\n",
      "(7, 2)\n",
      "(7, 3)\n",
      "(7, 4)\n",
      "(7, 5)\n",
      "(7, 6)\n",
      "(7, 7)\n",
      "(7, 8)\n",
      "(7, 9)\n",
      "(7, 10)\n",
      "(8, 1)\n",
      "(8, 2)\n",
      "(8, 3)\n",
      "(8, 4)\n",
      "(8, 5)\n",
      "(8, 6)\n",
      "(8, 7)\n",
      "(8, 8)\n",
      "(8, 9)\n",
      "(8, 10)\n",
      "(9, 1)\n",
      "(9, 2)\n",
      "(9, 3)\n",
      "(9, 4)\n",
      "(9, 5)\n",
      "(9, 6)\n",
      "(9, 7)\n",
      "(9, 8)\n",
      "(9, 9)\n",
      "(9, 10)\n",
      "(10, 1)\n",
      "(10, 2)\n",
      "(10, 3)\n",
      "(10, 4)\n",
      "(10, 5)\n",
      "(10, 6)\n",
      "(10, 7)\n",
      "(10, 8)\n",
      "(10, 9)\n",
      "(10, 10)\n"
     ]
    }
   ],
   "source": [
    "x1 = int(input(\"x의 시작 범위를 입력하세요: \"))\n",
    "x2 = int(input(\"x의 끝 범위를 입력하세요: \"))\n",
    "y1 = int(input(\"y의 시작 범위를 입력하세요: \"))\n",
    "y2 = int(input(\"y의 끝 범위를 입력하세요: \"))\n",
    "for x in range(x1, x2+1):\n",
    "    for y in range(y1, y2+1):\n",
    "        print(f\"{x, y}\")    "
   ]
  },
  {
   "cell_type": "markdown",
   "id": "bf83e9ce",
   "metadata": {},
   "source": [
    "# 초보자를 위한 파이썬"
   ]
  },
  {
   "cell_type": "code",
   "execution_count": 9,
   "id": "fbe3f2bd",
   "metadata": {},
   "outputs": [
    {
     "name": "stdout",
     "output_type": "stream",
     "text": [
      "<class 'int'>\n",
      "<class 'tuple'>\n"
     ]
    }
   ],
   "source": [
    "# 73. 튜플을 원소가 1개를 넘으면 생성된다.\n",
    "a = (1)\n",
    "print(type(a))\n",
    "b = (1,)\n",
    "print(type(b))"
   ]
  },
  {
   "cell_type": "code",
   "execution_count": null,
   "id": "57f2f8ea",
   "metadata": {},
   "outputs": [
    {
     "data": {
      "text/plain": [
       "tuple"
      ]
     },
     "execution_count": 12,
     "metadata": {},
     "output_type": "execute_result"
    }
   ],
   "source": [
    "# 75. 튜플은 괄호가 없어도 생성됨.\n",
    "t = 1, 2, 3, 4\n",
    "type(t)"
   ]
  },
  {
   "cell_type": "code",
   "execution_count": null,
   "id": "5c2b6aca",
   "metadata": {},
   "outputs": [
    {
     "name": "stdout",
     "output_type": "stream",
     "text": [
      "apple cake banana\n"
     ]
    }
   ],
   "source": [
    "# 79. a ,b, c에 리스트 값을 할당하고 순서를 바꿔서 출력해보기\n",
    "temp = ['apple', 'banana', 'cake']\n",
    "a, b, c= temp\n",
    "print(a, c, b)"
   ]
  },
  {
   "cell_type": "code",
   "execution_count": null,
   "id": "7cb1d9ba",
   "metadata": {},
   "outputs": [
    {
     "name": "stdout",
     "output_type": "stream",
     "text": [
      "8.8 8.9 8.7 9.2 9.3 9.7 9.9 9.5 7.8\n"
     ]
    }
   ],
   "source": [
    "# 81. 변수를 둘로 쪼갠 후, 하나의 변수에 특정 값을 할당한 후, \"*\"를 이용하여 남은 값 할당하기 \n",
    "scores = *valid_score, score = [8.8, 8.9, 8.7, 9.2, 9.3, 9.7, 9.9, 9.5, 7.8, 9.4]\n",
    "score = scores[8:]\n",
    "print(*valid_score)"
   ]
  },
  {
   "cell_type": "code",
   "execution_count": null,
   "id": "7e740abf",
   "metadata": {},
   "outputs": [
    {
     "data": {
      "text/plain": [
       "dict"
      ]
     },
     "execution_count": 143,
     "metadata": {},
     "output_type": "execute_result"
    }
   ],
   "source": [
    "# 91. 딕셔너리 생성하기\n",
    "inventory = {\"메로나\": [300, 20], \"비비빅\": [400, 3], \"죠스바\": [250, 100]}\n",
    "type(inventory)"
   ]
  },
  {
   "cell_type": "code",
   "execution_count": null,
   "id": "b48cd307",
   "metadata": {},
   "outputs": [
    {
     "name": "stdout",
     "output_type": "stream",
     "text": [
      "300원\n"
     ]
    }
   ],
   "source": [
    "# 92. 딕셔너리에서 원소의 key값을 찾고 구하고자 하는 수를 추출한 후, sep=\"\"를 이용하여 공백 없애기\n",
    "print(inventory[\"메로나\"][0], \"원\", sep=\"\")"
   ]
  },
  {
   "cell_type": "code",
   "execution_count": null,
   "id": "9b354d85",
   "metadata": {},
   "outputs": [
    {
     "name": "stdout",
     "output_type": "stream",
     "text": [
      "['탱크보이', '폴라포', '빵빠레', '월드콘', '메로나']\n"
     ]
    }
   ],
   "source": [
    "# 95. 딕셔너리의 key를 추출한 후 이를 리스트로 저장하기\n",
    "icecream = {'탱크보이': 1200, '폴라포': 1200, '빵빠레': 1800, '월드콘': 1500, '메로나': 1000}\n",
    "print(list(icecream.keys()))\n"
   ]
  },
  {
   "cell_type": "code",
   "execution_count": null,
   "id": "473701b6",
   "metadata": {},
   "outputs": [
    {
     "name": "stdout",
     "output_type": "stream",
     "text": [
      "{'apple': 300, 'pear': 250, 'peach': 400}\n"
     ]
    }
   ],
   "source": [
    "# 99. key와 val을 각각 조정하여 딕셔너리로 만들기\n",
    "keys = ('apple', 'pear', 'peach')\n",
    "vals = (300, 250, 400)\n",
    "\n",
    "dictionary = dict(zip(keys, vals))\n",
    "print(dictionary)\n"
   ]
  },
  {
   "cell_type": "code",
   "execution_count": null,
   "id": "7e3711bc",
   "metadata": {},
   "outputs": [
    {
     "name": "stdout",
     "output_type": "stream",
     "text": [
      "{'09/05': 10500, '09/06': 10300, '09/07': 10100, '09/08': 10800, '09/09': 11000}\n"
     ]
    }
   ],
   "source": [
    "# 100. 99와 같음\n",
    "date = ['09/05', '09/06', '09/07', '09/08', '09/09']\n",
    "close_price = [10500, 10300, 10100, 10800, 11000]\n",
    "\n",
    "close_table = dict(zip(date, close_price))\n",
    "print(close_table)"
   ]
  },
  {
   "cell_type": "code",
   "execution_count": null,
   "id": "3d77e5c9",
   "metadata": {},
   "outputs": [
    {
     "name": "stdout",
     "output_type": "stream",
     "text": [
      "256\n",
      "255\n"
     ]
    }
   ],
   "source": [
    "# 114. b가 만약 255를 초과할 경우, 255를 추출하기\n",
    "a = int(input(\"숫자를 입력하세요: \"))\n",
    "b = a + 20\n",
    "print(b)\n",
    "if b > 255:\n",
    "    print(int(255))"
   ]
  },
  {
   "cell_type": "code",
   "execution_count": null,
   "id": "00f04f5c",
   "metadata": {},
   "outputs": [
    {
     "name": "stdout",
     "output_type": "stream",
     "text": [
      "현재 시각: 20:00\n",
      "정각입니다.\n"
     ]
    }
   ],
   "source": [
    "# 116. input을 받아 if문에 적용하기\n",
    "a = input(\"시를 입력하세요: \")\n",
    "b = input(\"분을 입력하세요: \")\n",
    "print(\"현재 시각: \", a, \":\", b, sep=\"\")\n",
    "if b == \"00\":\n",
    "    print(\"정각입니다.\")\n",
    "else:\n",
    "    print(\"정각이 아닙니다.\")"
   ]
  },
  {
   "cell_type": "code",
   "execution_count": null,
   "id": "4169128c",
   "metadata": {},
   "outputs": [
    {
     "name": "stdout",
     "output_type": "stream",
     "text": [
      "투자 경고 종목이 아닙니다.\n"
     ]
    }
   ],
   "source": [
    "# 118. input을 입력받아 리스트에 있는지 확인하고 if문으로 작동시키기\n",
    "warn_investment_list = [\"Microsoft\", \"Google\", \"Naver\", \"Kakao\", \"SAMSUNG\", \"LG\"]\n",
    "a = input(\"종목명을 입력하세요: \")\n",
    "if a in warn_investment_list:\n",
    "    print(\"투자 경고 종목입니다.\")\n",
    "else:\n",
    "    print(\"투자 경고 종목이 아닙니다.\")"
   ]
  },
  {
   "cell_type": "code",
   "execution_count": null,
   "id": "72d7351e",
   "metadata": {},
   "outputs": [
    {
     "name": "stdout",
     "output_type": "stream",
     "text": [
      "정답입니다\n"
     ]
    }
   ],
   "source": [
    "# 119. 118과 같음\n",
    "fruit = {\"봄\" : \"딸기\", \"여름\" : \"토마토\", \"가을\" : \"사과\"}\n",
    "a = input(\"좋아하는 계절을 말하세요: \")\n",
    "if a in fruit.keys():\n",
    "    print(\"정답입니다\")\n",
    "else:\n",
    "    print(\"오답입니다\")\n"
   ]
  },
  {
   "cell_type": "code",
   "execution_count": null,
   "id": "dbddb303",
   "metadata": {},
   "outputs": [
    {
     "name": "stdout",
     "output_type": "stream",
     "text": [
      "C\n"
     ]
    }
   ],
   "source": [
    "# 121. input이 소문자라면 대문자로 변환하고, 아니라면 소문자로 변환하기\n",
    "alpha = input(\"영문자를 입력하시오: \")\n",
    "if alpha.islower() :\n",
    "    print(alpha.upper())\n",
    "else:\n",
    "    print(alpha.lower())\n"
   ]
  },
  {
   "cell_type": "code",
   "execution_count": null,
   "id": "2f6d12b5",
   "metadata": {},
   "outputs": [
    {
     "name": "stdout",
     "output_type": "stream",
     "text": [
      "입력:  120.0 달러\n",
      "140040.0 원\n"
     ]
    }
   ],
   "source": [
    "# 123 input으로 화폐 종류를 입력받고, 환율을 적용하여 원화 추출하기\n",
    "화폐 = input(\"화폐 종류를 입력하세요: \")\n",
    "금액 = float(input(\"금액을 입력하세요: \"))\n",
    "print(\"입력: \", 금액, 화폐, sep=\" \")\n",
    "if 화폐 == \"달러\":\n",
    "    print(f\"{금액*1167} 원\")\n",
    "elif 화폐 == \"엔\":\n",
    "    print(f\"{금액*1.096} 원\")\n",
    "elif 화폐 == \"유로\":\n",
    "    print(f\"{금액*1268} 원\")\n",
    "elif 화폐 == \"위안안\":\n",
    "    print(f\"{금액*171} 원\")\n"
   ]
  },
  {
   "cell_type": "code",
   "execution_count": null,
   "id": "1e38988d",
   "metadata": {},
   "outputs": [
    {
     "name": "stdout",
     "output_type": "stream",
     "text": [
      "강북구\n"
     ]
    }
   ],
   "source": [
    "# 126. input을 받아 if문에 적용하기\n",
    "a = input(\"우편변호를 입력하세요: \")\n",
    "b = str(a[2])\n",
    "if b <= \"2\":\n",
    "    print(\"강북구\")\n",
    "elif b<= \"5\":\n",
    "    print(\"도봉구\")\n",
    "elif b<= \"9\":\n",
    "    print(\"노원구\")"
   ]
  },
  {
   "cell_type": "code",
   "execution_count": 13,
   "id": "fd1c343d",
   "metadata": {},
   "outputs": [
    {
     "name": "stdout",
     "output_type": "stream",
     "text": [
      "0\n",
      "18\n",
      "22\n",
      "32\n",
      "44\n",
      "65\n",
      "89\n",
      "89\n",
      "97\n",
      "121\n",
      "137\n",
      "142\n",
      "주민등록번호가 유효하지 않습니다\n",
      "0\n",
      "0612233048410\n"
     ]
    }
   ],
   "source": [
    "# 129. 주민번호를 입력하여 유효한지 알아보기( 내가 적용을 해 봤더니 정확한 방식은 아닌 것 같음)\n",
    "pwd = str(input(\"주민번호를 입력하세요 (단, 숫자만 입력할 것): \"))\n",
    "serial = \"234567892345\"\n",
    "\n",
    "num =[]\n",
    "\n",
    "for i in range(13):\n",
    "    num.append(pwd[i])\n",
    "result = 0\n",
    "for j in range(12):\n",
    "    result += int(num[j])*int(serial[j])\n",
    "    print(result)\n",
    "if 11 - (result % 11) != num[-1]:\n",
    "    print(\"주민등록번호가 유효하지 않습니다\")\n",
    "print(num[-1])\n",
    "print(pwd)\n",
    "\n",
    "\n"
   ]
  },
  {
   "cell_type": "code",
   "execution_count": null,
   "id": "b7e3d369",
   "metadata": {},
   "outputs": [
    {
     "name": "stdout",
     "output_type": "stream",
     "text": [
      "상승장\n"
     ]
    }
   ],
   "source": [
    "# 130. 모듈을 import하여 if문에 적용하기\n",
    "import requests\n",
    "btc = requests.get(\"https://api.bithumb.com/public/ticker/\").json()['data']\n",
    "term = float(btc[\"max_price\"]) - float(btc[\"min_price\"])\n",
    "if float(btc[\"opening_price\"]) + term > float(btc[\"max_price\"]):\n",
    "    print(\"상승장\")\n",
    "else:\n",
    "    print(\"하락장\")\n"
   ]
  },
  {
   "cell_type": "code",
   "execution_count": null,
   "id": "0322577d",
   "metadata": {},
   "outputs": [
    {
     "name": "stdout",
     "output_type": "stream",
     "text": [
      "6\n",
      "4\n",
      "4\n"
     ]
    }
   ],
   "source": [
    "# 143. 리스트의 크기를 구하고, i를 크기에 할당하여 처음부터 끝까지의 문자열을 구하고 문자열의 크기를 구하기\n",
    "리스트 = [\"SK하이닉스\", \"삼성전자\", \"LG전자\"]\n",
    "for i in range (len(리스트)):\n",
    "    print(len(리스트[i]))"
   ]
  },
  {
   "cell_type": "code",
   "execution_count": null,
   "id": "5678fd12",
   "metadata": {},
   "outputs": [
    {
     "name": "stdout",
     "output_type": "stream",
     "text": [
      "study\n",
      "python\n",
      "language\n"
     ]
    }
   ],
   "source": [
    "# 154.글자수가 3이상인 것을 추출하기\n",
    "리스트 = [\"I\", \"study\", \"python\", \"language\", \"!\"]\n",
    "for i in range (len(리스트)):\n",
    "    if len(리스트[i])>=3:\n",
    "        print(리스트[i])"
   ]
  },
  {
   "cell_type": "code",
   "execution_count": null,
   "id": "7ebe49d1",
   "metadata": {},
   "outputs": [
    {
     "name": "stdout",
     "output_type": "stream",
     "text": [
      "A\n",
      "D\n"
     ]
    }
   ],
   "source": [
    "# 155. 대문자인 것을 출력하기\n",
    "리스트 = [\"A\", \"b\", \"c\", \"D\"]\n",
    "for i in range (len(리스트)):\n",
    "    if 리스트[i].isupper():\n",
    "        print(리스트[i])"
   ]
  }
 ],
 "metadata": {
  "kernelspec": {
   "display_name": "Python 3",
   "language": "python",
   "name": "python3"
  },
  "language_info": {
   "codemirror_mode": {
    "name": "ipython",
    "version": 3
   },
   "file_extension": ".py",
   "mimetype": "text/x-python",
   "name": "python",
   "nbconvert_exporter": "python",
   "pygments_lexer": "ipython3",
   "version": "3.11.9"
  }
 },
 "nbformat": 4,
 "nbformat_minor": 5
}
