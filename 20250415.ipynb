{
 "cells": [
  {
   "cell_type": "code",
   "execution_count": 7,
   "id": "60ecb630",
   "metadata": {},
   "outputs": [
    {
     "name": "stdout",
     "output_type": "stream",
     "text": [
      "[1, 4, 9, 16, 25, 36, 49, 64, 81, 100]\n"
     ]
    }
   ],
   "source": [
    "numbers = [1, 2, 3, 4, 5, 6, 7, 8, 9, 10]\n",
    "print(list(map(lambda x : x ** 2 , numbers)))"
   ]
  },
  {
   "cell_type": "code",
   "execution_count": 8,
   "id": "2444cc09",
   "metadata": {},
   "outputs": [
    {
     "name": "stdout",
     "output_type": "stream",
     "text": [
      "[1, 4, 9, 16, 25, 36, 49, 64, 81, 100]\n"
     ]
    }
   ],
   "source": [
    "squared = [i ** 2 for i in numbers]\n",
    "print(squared)"
   ]
  },
  {
   "cell_type": "code",
   "execution_count": 14,
   "id": "a6ce7792",
   "metadata": {},
   "outputs": [
    {
     "name": "stdout",
     "output_type": "stream",
     "text": [
      "[1, 9, 25, 49, 81]\n"
     ]
    }
   ],
   "source": [
    "odd = [num ** 2 for num in numbers if num % 2 == 1]\n",
    "print(odd)"
   ]
  },
  {
   "cell_type": "code",
   "execution_count": 18,
   "id": "7c6d50fa",
   "metadata": {},
   "outputs": [
    {
     "name": "stdout",
     "output_type": "stream",
     "text": [
      "[0, 0, 0, 0, 0, 0]\n"
     ]
    }
   ],
   "source": [
    "List = [5, 10, 15, 20, 25, 30]\n",
    "print(list(map(lambda x : x % 5, List)))"
   ]
  },
  {
   "cell_type": "code",
   "execution_count": 26,
   "id": "8dd9b1e5",
   "metadata": {},
   "outputs": [
    {
     "name": "stdout",
     "output_type": "stream",
     "text": [
      "[3, 6, 9]\n"
     ]
    }
   ],
   "source": [
    "bers = []\n",
    "for i in range (1, 11):\n",
    "    bers.append(i)\n",
    "mul3 = [um for um in bers if um % 3 == 0]\n",
    "print(mul3)"
   ]
  },
  {
   "cell_type": "code",
   "execution_count": null,
   "id": "bdf0cb88",
   "metadata": {},
   "outputs": [
    {
     "name": "stdout",
     "output_type": "stream",
     "text": [
      "[3, 7, 11]\n"
     ]
    }
   ],
   "source": [
    "tuple = [(1,2), (3,4), (5,6)]\n",
    "sum = list(map(lambda x : x[0]+ x[1], tuple))\n",
    "print(sum)"
   ]
  },
  {
   "cell_type": "code",
   "execution_count": 60,
   "id": "85a27e66",
   "metadata": {},
   "outputs": [
    {
     "name": "stdout",
     "output_type": "stream",
     "text": [
      "[5, 6, 6]\n"
     ]
    }
   ],
   "source": [
    "fruits = ['apple', 'banana', 'cherry']\n",
    "length = list(map(lambda le : len(le), fruits))\n",
    "print(length)"
   ]
  },
  {
   "cell_type": "code",
   "execution_count": 66,
   "id": "0cc071ce",
   "metadata": {},
   "outputs": [],
   "source": [
    "li = [3, 6, 9, 12, 15]\n",
    "total = list(map(lambda x : x * 2, li))"
   ]
  },
  {
   "cell_type": "code",
   "execution_count": 67,
   "id": "70557eb2",
   "metadata": {},
   "outputs": [
    {
     "name": "stdout",
     "output_type": "stream",
     "text": [
      "[6, 12, 18, 24, 30]\n"
     ]
    }
   ],
   "source": [
    "print(total)"
   ]
  },
  {
   "cell_type": "code",
   "execution_count": 92,
   "id": "3ca53bdb",
   "metadata": {},
   "outputs": [
    {
     "name": "stdout",
     "output_type": "stream",
     "text": [
      "[[0. 0. 0.]\n",
      " [0. 0. 0.]]\n",
      "[[1. 1. 1.]\n",
      " [1. 1. 1.]]\n",
      "[[8 8 8]\n",
      " [8 8 8]]\n",
      "[ 1  4  7 10 13]\n",
      "[0 2 3 5 6]\n",
      "[1.         1.11111111 1.22222222 1.33333333 1.44444444 1.55555556\n",
      " 1.66666667 1.77777778 1.88888889 2.        ]\n",
      "[[0.98348982 0.16802485 0.63706627 0.29852152 0.37200043]\n",
      " [0.95497754 0.52848283 0.10103069 0.32879118 0.27448986]\n",
      " [0.43200009 0.91792828 0.31456563 0.65719173 0.68265886]\n",
      " [0.46179155 0.18040837 0.07268439 0.29630056 0.13588575]]\n",
      "[[98.34898205 16.8024852  63.70662671 29.85215168 37.20004295]\n",
      " [95.49775431 52.84828289 10.10306935 32.87911824 27.44898611]\n",
      " [43.20000944 91.79282843 31.456563   65.71917343 68.2658861 ]\n",
      " [46.17915476 18.04083719  7.26843881 29.63005553 13.58857531]]\n"
     ]
    }
   ],
   "source": [
    "import numpy as np\n",
    "zeros_arr = np.zeros((2,3))\n",
    "print(zeros_arr)\n",
    "\n",
    "ones_arr = np.ones((2,3))\n",
    "print(ones_arr)\n",
    "\n",
    "full_arr = np.full((2,3),8)\n",
    "print(full_arr)\n",
    "\n",
    "arr = np.arange(1, 15, 3)\n",
    "result = arr // 2\n",
    "print(arr)\n",
    "print(result)\n",
    "\n",
    "arr1 = np.linspace(1, 2, 10)\n",
    "print(arr1)\n",
    "\n",
    "arr_random = np.random.rand(4, 5)\n",
    "print(arr_random)\n",
    "print(arr_random * 100)"
   ]
  },
  {
   "cell_type": "code",
   "execution_count": 108,
   "id": "e7938b7f",
   "metadata": {},
   "outputs": [
    {
     "name": "stdout",
     "output_type": "stream",
     "text": [
      "[1 1 1]\n",
      "[[  1   8  27]\n",
      " [ 64 125 216]\n",
      " [343 512 729]]\n",
      "[ 6 15 24]\n",
      "[12 15 18]\n"
     ]
    }
   ],
   "source": [
    "arr1 = np.array([1, 4, 7])\n",
    "arr2 = np.array([0, 3, 6])\n",
    "print(arr1-arr2)\n",
    "\n",
    "arr3 = np.array([[1, 2, 3], [4, 5, 6], [7, 8, 9]])\n",
    "result = arr3 ** 3\n",
    "print(result)\n",
    "\n",
    "row_sum = np.sum(arr3, axis = 1)\n",
    "col_sum = np.sum(arr3, axis = 0)\n",
    "\n",
    "print(row_sum)\n",
    "print(col_sum)"
   ]
  },
  {
   "cell_type": "code",
   "execution_count": 121,
   "id": "99f3e162",
   "metadata": {},
   "outputs": [
    {
     "name": "stdout",
     "output_type": "stream",
     "text": [
      "[[ True False  True  True]\n",
      " [ True False  True  True]\n",
      " [ True False  True  True]\n",
      " [ True  True False  True]]\n",
      "[[ 6  3 12 14]\n",
      " [10  7 12  4]\n",
      " [ 6  9  2  6]\n",
      " [10 10  7  4]]\n"
     ]
    }
   ],
   "source": [
    "np.random.seed(42)\n",
    "arr5 = np.random.randint(0, 16, (4, 4))\n",
    "print(arr5 % 2 == 0)\n",
    "print(arr5)"
   ]
  }
 ],
 "metadata": {
  "kernelspec": {
   "display_name": "Python 3",
   "language": "python",
   "name": "python3"
  },
  "language_info": {
   "codemirror_mode": {
    "name": "ipython",
    "version": 3
   },
   "file_extension": ".py",
   "mimetype": "text/x-python",
   "name": "python",
   "nbconvert_exporter": "python",
   "pygments_lexer": "ipython3",
   "version": "3.11.9"
  }
 },
 "nbformat": 4,
 "nbformat_minor": 5
}
