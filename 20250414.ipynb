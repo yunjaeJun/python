{
 "cells": [
  {
   "cell_type": "markdown",
   "id": "43c51b76",
   "metadata": {},
   "source": [
    "# 점프투파이썬"
   ]
  },
  {
   "cell_type": "code",
   "execution_count": 79,
   "id": "88e5541b",
   "metadata": {},
   "outputs": [
    {
     "name": "stdout",
     "output_type": "stream",
     "text": [
      "Life is too short\n",
      "\n"
     ]
    }
   ],
   "source": [
    "# chap4-5\n",
    "f1 = open(\"test.txt\", \"w\")\n",
    "f1.write(\"Life is too short\\n\")\n",
    "\n",
    "f2 = open(\"test.txt\", \"r\")\n",
    "print(f2.read())\n"
   ]
  },
  {
   "cell_type": "code",
   "execution_count": 84,
   "id": "d8411f32",
   "metadata": {},
   "outputs": [],
   "source": [
    "#chap4-7\n",
    "f = open(\"test.txt\", \"r\")\n",
    "body = f.read()\n",
    "f.close()\n",
    "body = body.replace(\"java\",\"python\")\n",
    "f = open(\"test.txt\", \"w\")\n",
    "f.write(body)\n",
    "f.close()"
   ]
  },
  {
   "cell_type": "code",
   "execution_count": 94,
   "id": "dec181e0",
   "metadata": {},
   "outputs": [],
   "source": [
    "#chap5-1\n",
    "class Calculator:\n",
    "    def __init__(self):\n",
    "        self.value = 0\n",
    "    def add(self, val):\n",
    "        self.value += val"
   ]
  },
  {
   "cell_type": "code",
   "execution_count": 97,
   "id": "2af50ae6",
   "metadata": {},
   "outputs": [
    {
     "name": "stdout",
     "output_type": "stream",
     "text": [
      "3\n"
     ]
    }
   ],
   "source": [
    "class UpgradeCalculator(Calculator):\n",
    "    def minus(self, val):\n",
    "        self.value -= val\n",
    "\n",
    "cal = UpgradeCalculator()\n",
    "cal.add(10)\n",
    "cal.minus(7)\n",
    "print(cal.value)\n"
   ]
  },
  {
   "cell_type": "code",
   "execution_count": null,
   "id": "7121a37b",
   "metadata": {},
   "outputs": [],
   "source": [
    "#chap5-2\n",
    "class Calculator2:\n",
    "    def __init__(self):\n",
    "        self.value = 0\n",
    "    def add(self, val):\n",
    "        self.value += val\n",
    "        \n"
   ]
  },
  {
   "cell_type": "code",
   "execution_count": 127,
   "id": "b251d1fd",
   "metadata": {},
   "outputs": [
    {
     "name": "stdout",
     "output_type": "stream",
     "text": [
      "100\n"
     ]
    }
   ],
   "source": [
    "class MaxLimitCalculator(Calculator2):\n",
    "    def add(self, val):\n",
    "        self.value += val\n",
    "        if self.value + val > 100 :\n",
    "            self.value = 100\n",
    "        \n",
    "cal = MaxLimitCalculator()\n",
    "cal.add(50)\n",
    "cal.add(60)\n",
    "print(cal.value)\n"
   ]
  },
  {
   "cell_type": "markdown",
   "id": "a4a2632f",
   "metadata": {},
   "source": [
    "# 초보자를 위한 파이썬"
   ]
  },
  {
   "cell_type": "code",
   "execution_count": 419,
   "id": "9c00d2a1",
   "metadata": {},
   "outputs": [
    {
     "name": "stdout",
     "output_type": "stream",
     "text": [
      "누적 계좌 수: 1\n",
      "1\n",
      "입금 후 잔액: 55000\n",
      "2\n",
      "입금 후 잔액: 115000\n",
      "3\n",
      "입금 후 잔액: 195000\n",
      "4\n",
      "입금 후 잔액: 255000\n",
      "5\n",
      "이자 발생\n",
      "입금 후 잔액: 297950.0\n",
      "6\n",
      "입금 후 잔액: 337950.0\n",
      "7\n",
      "입금 후 잔액: 377950.0\n",
      "8\n",
      "입금 후 잔액: 417950.0\n",
      "9\n",
      "입금 후 잔액: 457950.0\n",
      "10\n",
      "이자 발생\n",
      "입금 후 잔액: 502929.5\n",
      "출금 후 잔액: 496929.5\n",
      "은행 이름: SC은행\n",
      "고객명: Tom\n",
      "계좌 번호: 971-04-381940\n",
      "잔고: 496,929.5원\n",
      "496929.5\n"
     ]
    }
   ],
   "source": [
    "#271\n",
    "import random\n",
    "class Account: \n",
    "    account_count = 0\n",
    "    plus_count = 0\n",
    "    def __init__(self, name, balance = 0):\n",
    "        self.name = name\n",
    "        self.balance = balance\n",
    "        self.bank = \"SC은행\"\n",
    "        first = random.randint(1,1000)\n",
    "        first = str(first).zfill(3)\n",
    "        second = random.randrange(1, 100)\n",
    "        second = str(second).zfill(2)\n",
    "        third = random.randint(1, 1000000)\n",
    "        third = str(third).zfill(6)\n",
    "        self.account = first + \"-\" + second + \"-\" + third\n",
    "        Account.account_count += 1\n",
    "\n",
    "    @classmethod\n",
    "    def get_account_num(cls):\n",
    "        print(f\"누적 계좌 수: {cls.account_count}\")\n",
    "\n",
    "    def deposit(self, plus):\n",
    "        if plus >= 1:\n",
    "            self.balance += plus    \n",
    "            Account.plus_count += 1\n",
    "            print(Account.plus_count)\n",
    "            if Account.plus_count % 5 == 0:\n",
    "                self.balance += 0.01*self.balance\n",
    "                print(\"이자 발생\")\n",
    "        else : \n",
    "            print(\"1원부터 입금 가능합니다\")\n",
    "        print(f\"입금 후 잔액: {self.balance}\")\n",
    "\n",
    "    def withdraw(self, minus):\n",
    "        if self.balance >= minus:\n",
    "            self.balance -= minus\n",
    "        else :\n",
    "            print(\"잔액이 부족합니다\")\n",
    "        print(f\"출금 후 잔액: {self.balance}\")\n",
    "\n",
    "    def display_info(self):\n",
    "        print(f\"은행 이름: {self.bank}\")\n",
    "        print(f\"고객명: {self.name}\")\n",
    "        print(f\"계좌 번호: {self.account}\")\n",
    "        self_balance = \"{:,}\".format(self.balance)\n",
    "        print(f\"잔고: {self_balance}원\")\n",
    "\n",
    "\n",
    "account_list = []\n",
    "account1 = Account(\"Tom\", 5000)\n",
    "account1.get_account_num()\n",
    "account1.deposit(50000)\n",
    "account1.deposit(60000)\n",
    "account1.deposit(80000)\n",
    "account1.deposit(60000)\n",
    "account1.deposit(40000)\n",
    "account1.deposit(40000)\n",
    "account1.deposit(40000)\n",
    "account1.deposit(40000)\n",
    "account1.deposit(40000)\n",
    "account1.deposit(40000)\n",
    "account1.withdraw(6000)\n",
    "account1.display_info()\n",
    "account_list.append(account1)\n",
    "\n",
    "account2 = Account(\"John\", 8000)\n",
    "account_list.append(account2)\n",
    "account3 = Account(\"Mercy\", 3000)\n",
    "account_list.append(account3)\n",
    "account_list\n",
    "print(account1.balance)\n",
    "\n",
    "\n",
    "        "
   ]
  },
  {
   "cell_type": "code",
   "execution_count": 8,
   "id": "c5444d95",
   "metadata": {},
   "outputs": [],
   "source": [
    "파일객체 = open(\"filename.txt\", \"r\", encoding = 'utf-8')\n"
   ]
  },
  {
   "cell_type": "code",
   "execution_count": 3,
   "id": "efebfcbf",
   "metadata": {},
   "outputs": [],
   "source": [
    "f = open(\"filename.txt\", \"w\", encoding=\"utf-8\")\n",
    "f.write(\"안녕하세요 첫 번째 줄입니다\\n\")\n",
    "f.write(\"두 번째 줄입니다\\n\")\n",
    "f.close()"
   ]
  },
  {
   "cell_type": "code",
   "execution_count": 6,
   "id": "a931a974",
   "metadata": {},
   "outputs": [],
   "source": [
    "with open(\"filename.txt\", \"w\", encoding=\"utf-8\") as f:\n",
    "    f.write(\"이 문장은 with문을 사용하여 파일에 저장하였습니다\")"
   ]
  },
  {
   "cell_type": "code",
   "execution_count": 9,
   "id": "c4ff5dd7",
   "metadata": {},
   "outputs": [],
   "source": [
    "with open(\"filename.txt\", \"w\", encoding=\"utf-8\") as f:\n",
    "    f.write(\"첫 번 째 줄입니다\\n\")\n",
    "    f.write(\"두 번 째 줄입니다\\n\")\n",
    "    f.write(\"세 번 째 줄입니다\\n\")"
   ]
  },
  {
   "cell_type": "code",
   "execution_count": 10,
   "id": "ca85b7f7",
   "metadata": {},
   "outputs": [
    {
     "name": "stdout",
     "output_type": "stream",
     "text": [
      "첫 번 째 줄입니다\n",
      "두 번 째 줄입니다\n",
      "세 번 째 줄입니다\n",
      "\n"
     ]
    }
   ],
   "source": [
    "with open(\"filename.txt\", \"r\", encoding=\"utf-8\") as f:\n",
    "    content = f.read()\n",
    "    print(content)"
   ]
  },
  {
   "cell_type": "code",
   "execution_count": 11,
   "id": "ae64b0df",
   "metadata": {},
   "outputs": [
    {
     "name": "stdout",
     "output_type": "stream",
     "text": [
      "첫 번 째 줄입니다\n",
      "두 번 째 줄입니다\n",
      "세 번 째 줄입니다\n"
     ]
    }
   ],
   "source": [
    "with open(\"filename.txt\", \"r\", encoding=\"utf-8\") as f:\n",
    "    lines = f.readlines()\n",
    "    for line in lines:\n",
    "        print(line.strip())"
   ]
  },
  {
   "cell_type": "code",
   "execution_count": 5,
   "id": "e1ff36db",
   "metadata": {},
   "outputs": [],
   "source": [
    "with open(\"userInput.txt\", \"w\", encoding=\"utf-8\") as f:\n",
    "    \n",
    "    f.write(input(\"저장할 문장을 입력하세요: \") + \"\\n\")\n",
    "    f.write(input(\"저장할 문장을 입력하세요: \") + \"\\n\")\n",
    "    f.write(input(\"저장할 문장을 입력하세요: \") + \"\\n\")\n",
    "    "
   ]
  },
  {
   "cell_type": "code",
   "execution_count": 6,
   "id": "2e0aba89",
   "metadata": {},
   "outputs": [
    {
     "name": "stdout",
     "output_type": "stream",
     "text": [
      "안녕\n",
      "나는\n",
      "윤재야\n",
      "\n"
     ]
    }
   ],
   "source": [
    "with open(\"userInput.txt\", \"r\", encoding=\"utf-8\") as f:\n",
    "    input = f.read()\n",
    "    print(input)"
   ]
  },
  {
   "cell_type": "code",
   "execution_count": 7,
   "id": "9b2eedba",
   "metadata": {},
   "outputs": [],
   "source": [
    "list = ['사과', '바나나', '포도', '수박']\n",
    "with open(\"fruits.txt\", \"w\", encoding=\"utf-8\") as f:\n",
    "    for fruit in list:\n",
    "        f.write(fruit + \"\\n\")"
   ]
  },
  {
   "cell_type": "code",
   "execution_count": 8,
   "id": "4733ab7e",
   "metadata": {},
   "outputs": [
    {
     "name": "stdout",
     "output_type": "stream",
     "text": [
      "사과\n",
      "바나나\n",
      "포도\n",
      "수박\n",
      "\n"
     ]
    }
   ],
   "source": [
    "with open(\"fruits.txt\", \"r\", encoding=\"utf-8\") as f:\n",
    "    table = f.read()\n",
    "    print(table)"
   ]
  },
  {
   "cell_type": "code",
   "execution_count": 15,
   "id": "27436202",
   "metadata": {},
   "outputs": [],
   "source": [
    "class Car:\n",
    "    wheels = 4\n",
    "\n",
    "    def __init__(self, make, model, year):\n",
    "        self.make = make\n",
    "        self.model = model\n",
    "        self.year = year\n",
    "\n",
    "    def start_engine(self):\n",
    "        print(f\"The {self.make} {self.model} is starting the engine.\")\n",
    "    def stop_engine(self):\n",
    "        print(f\"The {self.make} {self.model} has stopped the engine.\")"
   ]
  },
  {
   "cell_type": "code",
   "execution_count": 16,
   "id": "7280dd36",
   "metadata": {},
   "outputs": [],
   "source": [
    "my_car = Car(\"Hyundai\", \"K5\", 2020)"
   ]
  },
  {
   "cell_type": "code",
   "execution_count": 17,
   "id": "60db65af",
   "metadata": {},
   "outputs": [
    {
     "name": "stdout",
     "output_type": "stream",
     "text": [
      "Hyundai\n",
      "K5\n",
      "2020\n"
     ]
    }
   ],
   "source": [
    "print(my_car.make)\n",
    "print(my_car.model)\n",
    "print(my_car.year)"
   ]
  },
  {
   "cell_type": "code",
   "execution_count": 18,
   "id": "99f14cce",
   "metadata": {},
   "outputs": [
    {
     "name": "stdout",
     "output_type": "stream",
     "text": [
      "The Hyundai K5 is starting the engine.\n",
      "The Hyundai K5 has stopped the engine.\n"
     ]
    }
   ],
   "source": [
    "my_car.start_engine()\n",
    "my_car.stop_engine()"
   ]
  },
  {
   "cell_type": "code",
   "execution_count": 31,
   "id": "17c0b618",
   "metadata": {},
   "outputs": [],
   "source": [
    "class ElectricCar(Car):\n",
    "    wheels = 4\n",
    "    def __init__(self, make, model, year, battery_size):\n",
    "        super().__init__(make, model, year)\n",
    "        self.battery_size = battery_size\n",
    "\n",
    "    def charge(self):\n",
    "        print(f\"The {self.make} {self.model} is charging the battery.\")\n",
    "    \n",
    "    def start_engine(self):\n",
    "        print(f\"The {self.make} {self.model} is starting the electric engine.\")"
   ]
  },
  {
   "cell_type": "code",
   "execution_count": 89,
   "id": "4b7c29f9",
   "metadata": {},
   "outputs": [
    {
     "name": "stdout",
     "output_type": "stream",
     "text": [
      "Tesla\n",
      "Model S\n",
      "The Tesla Model S is charging the battery.\n",
      "The Tesla Model S is starting the electric engine.\n"
     ]
    }
   ],
   "source": [
    "my_electric_car = ElectricCar(\"Tesla\", \"Model S\", 2022, 100)\n",
    "\n",
    "print(my_electric_car.make)\n",
    "print(my_electric_car.model)\n",
    "\n",
    "my_electric_car.charge()\n",
    "my_electric_car.start_engine()"
   ]
  },
  {
   "cell_type": "code",
   "execution_count": 34,
   "id": "7632bc88",
   "metadata": {},
   "outputs": [
    {
     "name": "stdout",
     "output_type": "stream",
     "text": [
      "4\n"
     ]
    }
   ],
   "source": [
    "print(ElectricCar.wheels)"
   ]
  },
  {
   "cell_type": "code",
   "execution_count": 50,
   "id": "abe553e3",
   "metadata": {},
   "outputs": [
    {
     "name": "stdout",
     "output_type": "stream",
     "text": [
      "Mummy\n",
      "Canine\n",
      "All dogs belong to the Canine species.\n",
      "woof!\n"
     ]
    }
   ],
   "source": [
    "class Dog:\n",
    "    species = \"Canine\"\n",
    "\n",
    "    def __init__(self, name, age):\n",
    "        self.name = name\n",
    "        self.age = age\n",
    "    @classmethod\n",
    "    def info(cls):\n",
    "        print(f\"All dogs belong to the {cls.species} species.\")\n",
    "    @staticmethod\n",
    "    def make_sound():\n",
    "        print(\"woof!\")\n",
    "dog1 = Dog(\"Mummy\", 4)\n",
    "dog2 = Dog(\"Lucy\", 4)\n",
    "\n",
    "print(dog1.name)\n",
    "print(dog2.species)\n",
    "Dog.info()\n",
    "Dog.make_sound()"
   ]
  },
  {
   "cell_type": "code",
   "execution_count": 49,
   "id": "2ea049eb",
   "metadata": {},
   "outputs": [
    {
     "name": "stdout",
     "output_type": "stream",
     "text": [
      "지금까지 총 1대의 자동차 인스턴스가 생성되었습니다\n",
      "None\n",
      "지금까지 총 2대의 자동차 인스턴스가 생성되었습니다\n",
      "None\n",
      "지금까지 총 3대의 자동차 인스턴스가 생성되었습니다\n",
      "None\n"
     ]
    }
   ],
   "source": [
    "class Car:\n",
    "    count = 0\n",
    "\n",
    "    def __init__(self, name):\n",
    "        self.name = name\n",
    "        Car.count += 1\n",
    "\n",
    "    @classmethod\n",
    "    def outcount(cls):\n",
    "        print(\"지금까지 총 {}대의 자동차 인스턴스가 생성되었습니다\".format(cls.count))\n",
    "\n",
    "genesis = Car('제네시스')\n",
    "print(Car.outcount())\n",
    "\n",
    "ionic = Car('아이오닉')\n",
    "print(Car.outcount())\n",
    "\n",
    "eclass = Car('E클래스')\n",
    "print(Car.outcount())\n",
    "\n"
   ]
  },
  {
   "cell_type": "code",
   "execution_count": 68,
   "id": "9456fc57",
   "metadata": {},
   "outputs": [
    {
     "name": "stdout",
     "output_type": "stream",
     "text": [
      "이름: John, 나이: 25, 직업: student\n"
     ]
    }
   ],
   "source": [
    "class Person:\n",
    "    def __init__(self, name, age, job):\n",
    "        self.name = name\n",
    "        self.age = age\n",
    "        self.job = job\n",
    "    \n",
    "    def introduce(self):\n",
    "        print(f\"이름: {self.name}, 나이: {self.age}, 직업: {self.job}\")\n",
    "\n",
    "person1 = Person(\"John\", 25, \"student\")\n",
    "person1.introduce()"
   ]
  },
  {
   "cell_type": "code",
   "execution_count": 53,
   "id": "7594fcf9",
   "metadata": {},
   "outputs": [
    {
     "name": "stdout",
     "output_type": "stream",
     "text": [
      "가로: 20, 세로: 15\n",
      "면적: 300\n",
      "둘레: 70\n"
     ]
    }
   ],
   "source": [
    "class Rectangle:\n",
    "    def __init__(self, x, y):\n",
    "        self.x = x\n",
    "        self.y = y\n",
    "        \n",
    "    def introduce(self):\n",
    "        print(f\"가로: {self.x}, 세로: {self.y}\")\n",
    "\n",
    "    def area(self):\n",
    "        print(f\"면적: {self.x*self.y}\")\n",
    "\n",
    "    def len(self):\n",
    "        print(f\"둘레: {2*(self.x+self.y)}\")\n",
    "\n",
    "square1 = Rectangle(20, 15)\n",
    "square1.introduce()\n",
    "square1.area()\n",
    "square1.len()"
   ]
  },
  {
   "cell_type": "code",
   "execution_count": 57,
   "id": "485cb254",
   "metadata": {},
   "outputs": [
    {
     "name": "stdout",
     "output_type": "stream",
     "text": [
      "잔액: 1000원\n",
      "입금 후 잔액: 1200원\n",
      "출금 후 잔액: 600원\n"
     ]
    }
   ],
   "source": [
    "class BankAccount:\n",
    "    def __init__(self, balance=0):\n",
    "        self.balance = balance\n",
    "\n",
    "    def intro(self):\n",
    "        print(f\"잔액: {self.balance}원\")\n",
    "        \n",
    "    def deposit(self, money):\n",
    "        self.balance += money\n",
    "        print(f\"입금 후 잔액: {self.balance}원\")\n",
    "\n",
    "    def withdraw(self, money):\n",
    "        if self.balance > money:\n",
    "            self.balance -= money\n",
    "            print(f\"출금 후 잔액: {self.balance}원\")\n",
    "        else:\n",
    "            print(\"잔액을 확인해주세요\")\n",
    "\n",
    "account1 = BankAccount(1000)\n",
    "account1.intro()\n",
    "account1.deposit(200)\n",
    "account1.withdraw(600)"
   ]
  },
  {
   "cell_type": "code",
   "execution_count": 60,
   "id": "5ecc7bdd",
   "metadata": {},
   "outputs": [
    {
     "name": "stdout",
     "output_type": "stream",
     "text": [
      "학생 이름: John\n",
      "점수: 85\n",
      "등급: B\n"
     ]
    }
   ],
   "source": [
    "class Student:\n",
    "    def __init__(self, name, age, score):\n",
    "        self.name = name\n",
    "        self.age = age\n",
    "        self.score = score\n",
    "    \n",
    "    def get_grade(self):\n",
    "        if self.score >= 90:\n",
    "            return 'A'\n",
    "        elif self.score >= 80:\n",
    "            return 'B'\n",
    "        elif self.score >= 70:\n",
    "            return 'C'\n",
    "        elif self.score >= 60:\n",
    "            return 'D'\n",
    "        else :\n",
    "            return 'F'\n",
    "        \n",
    "stud1 = Student(\"John\", 20, 85)\n",
    "print(f\"학생 이름: {stud1.name}\")\n",
    "print(f\"점수: {stud1.score}\")\n",
    "print(f\"등급: {stud1.get_grade()}\")"
   ]
  },
  {
   "cell_type": "code",
   "execution_count": 67,
   "id": "a8ed3524",
   "metadata": {},
   "outputs": [
    {
     "name": "stdout",
     "output_type": "stream",
     "text": [
      "이름: Buddy, 나이: 3\n",
      "Buddy says: 멍멍!\n"
     ]
    }
   ],
   "source": [
    "class Dog:\n",
    "    def __init__(self, name, age):\n",
    "        self.name = name\n",
    "        self.age = age\n",
    "    \n",
    "    def bark(self):\n",
    "        print(f\"{self.name} says: 멍멍!\")\n",
    "    \n",
    "dog1 = Dog(\"Buddy\", 3)\n",
    "print(f\"이름: {dog1.name}, 나이: {dog1.age}\")\n",
    "dog1.bark()"
   ]
  }
 ],
 "metadata": {
  "kernelspec": {
   "display_name": "Python 3",
   "language": "python",
   "name": "python3"
  },
  "language_info": {
   "codemirror_mode": {
    "name": "ipython",
    "version": 3
   },
   "file_extension": ".py",
   "mimetype": "text/x-python",
   "name": "python",
   "nbconvert_exporter": "python",
   "pygments_lexer": "ipython3",
   "version": "3.11.9"
  }
 },
 "nbformat": 4,
 "nbformat_minor": 5
}
